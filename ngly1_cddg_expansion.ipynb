{
 "cells": [
  {
   "cell_type": "markdown",
   "metadata": {},
   "source": [
    "# Expansion of nodes using Monarch APIs\n",
    "* https://api.monarchinitiative.org/api/#/\n",
    "* https://scigraph-ontology.monarchinitiative.org/scigraph/docs/#/"
   ]
  },
  {
   "cell_type": "code",
   "execution_count": 2,
   "metadata": {
    "collapsed": true
   },
   "outputs": [],
   "source": [
    "import pandas as pd\n",
    "import requests\n",
    "import json\n",
    "from pandas.io.json import json_normalize"
   ]
  },
  {
   "cell_type": "code",
   "execution_count": 3,
   "metadata": {
    "collapsed": true
   },
   "outputs": [],
   "source": [
    "# input disease\n",
    "disease = 'OMIM:615273'\n",
    "\n",
    "# output files\n",
    "path = 'ngly1-cddg-expansion/ngly1_cddg'"
   ]
  },
  {
   "cell_type": "markdown",
   "metadata": {},
   "source": [
    "## Graph queries (SciGraph)"
   ]
  },
  {
   "cell_type": "code",
   "execution_count": 4,
   "metadata": {
    "collapsed": true
   },
   "outputs": [],
   "source": [
    "# api address\n",
    "api = 'https://scigraph-ontology.monarchinitiative.org/scigraph'\n",
    "endpoint = '/graph'"
   ]
  },
  {
   "cell_type": "code",
   "execution_count": 5,
   "metadata": {},
   "outputs": [
    {
     "data": {
      "text/plain": [
       "{'Connection': 'keep-alive', 'Transfer-Encoding': 'chunked', 'Cache-Control': 'no-transform, max-age=7200', 'Vary': 'Accept, Accept-Encoding', 'Content-Type': 'application/json', 'Server': 'nginx/1.10.0 (Ubuntu)', 'Content-Encoding': 'gzip', 'Date': 'Thu, 18 May 2017 17:25:07 GMT'}"
      ]
     },
     "execution_count": 5,
     "metadata": {},
     "output_type": "execute_result"
    }
   ],
   "source": [
    "# get neighbors (JSON content)\n",
    "r = requests.get('{}{}/neighbors/{}'.format(api,endpoint,disease))\n",
    "r.headers"
   ]
  },
  {
   "cell_type": "code",
   "execution_count": 6,
   "metadata": {},
   "outputs": [
    {
     "data": {
      "text/plain": [
       "{'edges': [{'meta': {'isDefinedBy': ['http://purl.obolibrary.org/obo/upheno/monarch.owl'],\n",
       "    'lbl': ['subClassOf']},\n",
       "   'obj': 'Orphanet:183763',\n",
       "   'pred': 'subClassOf',\n",
       "   'sub': 'OMIM:615273'},\n",
       "  {'meta': {'equivalentOriginalNodeSource': ['http://purl.obolibrary.org/obo/UMLS_C3808991'],\n",
       "    'isDefinedBy': ['http://purl.obolibrary.org/obo/upheno/monarch.owl'],\n",
       "    'lbl': ['subClassOf']},\n",
       "   'obj': 'Orphanet:91088',\n",
       "   'pred': 'subClassOf',\n",
       "   'sub': 'OMIM:615273'},\n",
       "  {'meta': {'equivalentOriginalNodeTarget': ['http://purl.obolibrary.org/obo/UMLS_C3808991'],\n",
       "    'isDefinedBy': ['http://purl.obolibrary.org/obo/upheno/monarch.owl'],\n",
       "    'lbl': ['equivalentClass']},\n",
       "   'obj': 'OMIM:615273',\n",
       "   'pred': 'equivalentClass',\n",
       "   'sub': 'DOID:0060728'},\n",
       "  {'meta': {'equivalentOriginalNodeSource': ['http://purl.obolibrary.org/obo/UMLS_C3808991'],\n",
       "    'lbl': ['isDefinedBy']},\n",
       "   'obj': 'OBO:upheno/monarch.owl',\n",
       "   'pred': 'isDefinedBy',\n",
       "   'sub': 'OMIM:615273'},\n",
       "  {'meta': {'equivalentOriginalNodeTarget': ['http://purl.obolibrary.org/obo/UMLS_CN226822'],\n",
       "    'isDefinedBy': ['http://purl.obolibrary.org/obo/upheno/monarch.owl'],\n",
       "    'lbl': ['subClassOf']},\n",
       "   'obj': 'Orphanet:183763',\n",
       "   'pred': 'subClassOf',\n",
       "   'sub': 'OMIM:615273'},\n",
       "  {'meta': {'equivalentOriginalNodeSource': ['http://www.orpha.net/ORDO/Orphanet_404454'],\n",
       "    'equivalentOriginalNodeTarget': ['http://purl.obolibrary.org/obo/UMLS_CN206450'],\n",
       "    'isDefinedBy': ['http://purl.obolibrary.org/obo/upheno/monarch.owl'],\n",
       "    'lbl': ['subClassOf']},\n",
       "   'obj': 'Orphanet:91088',\n",
       "   'pred': 'subClassOf',\n",
       "   'sub': 'OMIM:615273'},\n",
       "  {'meta': {'equivalentOriginalNodeSource': ['http://www.orpha.net/ORDO/Orphanet_404454'],\n",
       "    'equivalentOriginalNodeTarget': ['http://purl.obolibrary.org/obo/UMLS_CN226822'],\n",
       "    'isDefinedBy': ['http://purl.obolibrary.org/obo/upheno/monarch.owl'],\n",
       "    'lbl': ['subClassOf']},\n",
       "   'obj': 'Orphanet:183763',\n",
       "   'pred': 'subClassOf',\n",
       "   'sub': 'OMIM:615273'},\n",
       "  {'meta': {'equivalentOriginalNodeSource': ['http://purl.obolibrary.org/obo/UMLS_C3808991'],\n",
       "    'isDefinedBy': ['http://purl.obolibrary.org/obo/upheno/monarch.owl'],\n",
       "    'lbl': ['subClassOf']},\n",
       "   'obj': 'Orphanet:183763',\n",
       "   'pred': 'subClassOf',\n",
       "   'sub': 'OMIM:615273'},\n",
       "  {'meta': {'equivalentOriginalNodeTarget': ['http://purl.obolibrary.org/obo/UMLS_CN206450'],\n",
       "    'isDefinedBy': ['http://purl.obolibrary.org/obo/upheno/monarch.owl'],\n",
       "    'lbl': ['subClassOf']},\n",
       "   'obj': 'Orphanet:91088',\n",
       "   'pred': 'subClassOf',\n",
       "   'sub': 'OMIM:615273'},\n",
       "  {'meta': {'equivalentOriginalNodeSource': ['http://purl.obolibrary.org/obo/UMLS_C3808991'],\n",
       "    'isDefinedBy': ['http://purl.obolibrary.org/obo/upheno/monarch.owl'],\n",
       "    'lbl': ['subClassOf']},\n",
       "   'obj': 'DOID:0050570',\n",
       "   'pred': 'subClassOf',\n",
       "   'sub': 'OMIM:615273'},\n",
       "  {'meta': {'isDefinedBy': ['http://purl.obolibrary.org/obo/upheno/monarch.owl'],\n",
       "    'lbl': ['equivalentClass']},\n",
       "   'obj': 'OMIM:615273',\n",
       "   'pred': 'equivalentClass',\n",
       "   'sub': 'DOID:0060728'},\n",
       "  {'meta': {'equivalentOriginalNodeSource': ['http://www.orpha.net/ORDO/Orphanet_404454'],\n",
       "    'isDefinedBy': ['http://purl.obolibrary.org/obo/upheno/monarch.owl'],\n",
       "    'lbl': ['subClassOf']},\n",
       "   'obj': 'DOID:0050570',\n",
       "   'pred': 'subClassOf',\n",
       "   'sub': 'OMIM:615273'},\n",
       "  {'meta': {'equivalentOriginalNodeSource': ['http://www.orpha.net/ORDO/Orphanet_404454'],\n",
       "    'isDefinedBy': ['http://purl.obolibrary.org/obo/upheno/monarch.owl'],\n",
       "    'lbl': ['subClassOf']},\n",
       "   'obj': 'Orphanet:183763',\n",
       "   'pred': 'subClassOf',\n",
       "   'sub': 'OMIM:615273'},\n",
       "  {'meta': {'equivalentOriginalNodeTarget': ['http://www.orpha.net/ORDO/Orphanet_404454'],\n",
       "    'isDefinedBy': ['http://purl.obolibrary.org/obo/upheno/monarch.owl'],\n",
       "    'lbl': ['equivalentClass']},\n",
       "   'obj': 'OMIM:615273',\n",
       "   'pred': 'equivalentClass',\n",
       "   'sub': 'DOID:0060728'},\n",
       "  {'meta': {'isDefinedBy': ['http://purl.obolibrary.org/obo/upheno/monarch.owl'],\n",
       "    'lbl': ['equivalentClass']},\n",
       "   'obj': 'UMLS:C3808991',\n",
       "   'pred': 'equivalentClass',\n",
       "   'sub': 'OMIM:615273'},\n",
       "  {'meta': {'equivalentOriginalNodeSource': ['http://www.orpha.net/ORDO/Orphanet_404454'],\n",
       "    'isDefinedBy': ['http://purl.obolibrary.org/obo/upheno/monarch.owl'],\n",
       "    'lbl': ['subClassOf']},\n",
       "   'obj': 'Orphanet:91088',\n",
       "   'pred': 'subClassOf',\n",
       "   'sub': 'OMIM:615273'},\n",
       "  {'meta': {'isDefinedBy': ['http://purl.obolibrary.org/obo/upheno/monarch.owl'],\n",
       "    'lbl': ['in_subset'],\n",
       "    'owlType': ['Annotation']},\n",
       "   'obj': 'Orphanet:377788',\n",
       "   'pred': 'OIO:inSubset',\n",
       "   'sub': 'OMIM:615273'},\n",
       "  {'meta': {'isDefinedBy': ['http://purl.obolibrary.org/obo/upheno/monarch.owl'],\n",
       "    'lbl': ['subClassOf']},\n",
       "   'obj': 'Orphanet:91088',\n",
       "   'pred': 'subClassOf',\n",
       "   'sub': 'OMIM:615273'},\n",
       "  {'meta': {'equivalentOriginalNodeSource': ['http://www.orpha.net/ORDO/Orphanet_404454'],\n",
       "    'lbl': ['isDefinedBy']},\n",
       "   'obj': 'OBO:upheno/monarch.owl',\n",
       "   'pred': 'isDefinedBy',\n",
       "   'sub': 'OMIM:615273'},\n",
       "  {'meta': {'equivalentOriginalNodeSource': ['http://purl.obolibrary.org/obo/DOID_0060728'],\n",
       "    'equivalentOriginalNodeTarget': ['http://purl.obolibrary.org/obo/UMLS_CN206450'],\n",
       "    'isDefinedBy': ['http://purl.obolibrary.org/obo/upheno/monarch.owl'],\n",
       "    'lbl': ['subClassOf']},\n",
       "   'obj': 'Orphanet:91088',\n",
       "   'pred': 'subClassOf',\n",
       "   'sub': 'OMIM:615273'},\n",
       "  {'meta': {'isDefinedBy': ['http://purl.obolibrary.org/obo/upheno/monarch.owl'],\n",
       "    'lbl': ['equivalentClass']},\n",
       "   'obj': 'Orphanet:404454',\n",
       "   'pred': 'equivalentClass',\n",
       "   'sub': 'OMIM:615273'},\n",
       "  {'meta': {'isDefinedBy': ['http://purl.obolibrary.org/obo/upheno/monarch.owl'],\n",
       "    'lbl': ['subClassOf']},\n",
       "   'obj': 'DOID:0050570',\n",
       "   'pred': 'subClassOf',\n",
       "   'sub': 'OMIM:615273'},\n",
       "  {'meta': {'equivalentOriginalNodeSource': ['http://purl.obolibrary.org/obo/DOID_0060728'],\n",
       "    'lbl': ['isDefinedBy']},\n",
       "   'obj': 'OBO:upheno/monarch.owl',\n",
       "   'pred': 'isDefinedBy',\n",
       "   'sub': 'OMIM:615273'},\n",
       "  {'meta': {'equivalentOriginalNodeSource': ['http://purl.obolibrary.org/obo/DOID_0060728'],\n",
       "    'isDefinedBy': ['http://purl.obolibrary.org/obo/upheno/monarch.owl'],\n",
       "    'lbl': ['subClassOf']},\n",
       "   'obj': 'Orphanet:91088',\n",
       "   'pred': 'subClassOf',\n",
       "   'sub': 'OMIM:615273'},\n",
       "  {'meta': {'equivalentOriginalNodeSource': ['http://purl.obolibrary.org/obo/DOID_0060728'],\n",
       "    'isDefinedBy': ['http://purl.obolibrary.org/obo/upheno/monarch.owl'],\n",
       "    'lbl': ['subClassOf']},\n",
       "   'obj': 'Orphanet:183763',\n",
       "   'pred': 'subClassOf',\n",
       "   'sub': 'OMIM:615273'},\n",
       "  {'meta': {'equivalentOriginalNodeSource': ['http://purl.obolibrary.org/obo/DOID_0060728'],\n",
       "    'isDefinedBy': ['http://purl.obolibrary.org/obo/upheno/monarch.owl'],\n",
       "    'lbl': ['subClassOf']},\n",
       "   'obj': 'DOID:0050570',\n",
       "   'pred': 'subClassOf',\n",
       "   'sub': 'OMIM:615273'},\n",
       "  {'meta': {'equivalentOriginalNodeSource': ['http://purl.obolibrary.org/obo/UMLS_C3808991'],\n",
       "    'equivalentOriginalNodeTarget': ['http://purl.obolibrary.org/obo/UMLS_CN226822'],\n",
       "    'isDefinedBy': ['http://purl.obolibrary.org/obo/upheno/monarch.owl'],\n",
       "    'lbl': ['subClassOf']},\n",
       "   'obj': 'Orphanet:183763',\n",
       "   'pred': 'subClassOf',\n",
       "   'sub': 'OMIM:615273'},\n",
       "  {'meta': {'equivalentOriginalNodeSource': ['http://purl.obolibrary.org/obo/UMLS_C3808991'],\n",
       "    'isDefinedBy': ['http://purl.obolibrary.org/obo/upheno/monarch.owl'],\n",
       "    'lbl': ['equivalentClass']},\n",
       "   'obj': 'Orphanet:404454',\n",
       "   'pred': 'equivalentClass',\n",
       "   'sub': 'OMIM:615273'},\n",
       "  {'meta': {'equivalentOriginalNodeSource': ['http://purl.obolibrary.org/obo/UMLS_C3808991'],\n",
       "    'equivalentOriginalNodeTarget': ['http://purl.obolibrary.org/obo/UMLS_CN206450'],\n",
       "    'isDefinedBy': ['http://purl.obolibrary.org/obo/upheno/monarch.owl'],\n",
       "    'lbl': ['subClassOf']},\n",
       "   'obj': 'Orphanet:91088',\n",
       "   'pred': 'subClassOf',\n",
       "   'sub': 'OMIM:615273'},\n",
       "  {'meta': {'lbl': ['isDefinedBy']},\n",
       "   'obj': 'OBO:upheno/monarch.owl',\n",
       "   'pred': 'isDefinedBy',\n",
       "   'sub': 'OMIM:615273'},\n",
       "  {'meta': {'equivalentOriginalNodeSource': ['http://purl.obolibrary.org/obo/DOID_0060728'],\n",
       "    'equivalentOriginalNodeTarget': ['http://purl.obolibrary.org/obo/UMLS_CN226822'],\n",
       "    'isDefinedBy': ['http://purl.obolibrary.org/obo/upheno/monarch.owl'],\n",
       "    'lbl': ['subClassOf']},\n",
       "   'obj': 'Orphanet:183763',\n",
       "   'pred': 'subClassOf',\n",
       "   'sub': 'OMIM:615273'}],\n",
       " 'meta': {},\n",
       " 'nodes': [{'id': 'OBO:upheno/monarch.owl',\n",
       "   'lbl': None,\n",
       "   'meta': {'types': ['Ontology', 'cliqueLeader', 'Node']}},\n",
       "  {'id': 'Orphanet:404454',\n",
       "   'lbl': None,\n",
       "   'meta': {'category': ['disease'], 'types': ['disease', 'Node', 'Class']}},\n",
       "  {'id': 'DOID:0050570',\n",
       "   'lbl': 'congenital disorder of glycosylation type I',\n",
       "   'meta': {'category': ['disease'],\n",
       "    'definition': ['A congenital disorder of glycosylation involve disrupted synthesis of the lipid-linked oligosaccharide precursor.'],\n",
       "    'http://purl.obolibrary.org/obo/IAO_0000115': ['A congenital disorder of glycosylation involve disrupted synthesis of the lipid-linked oligosaccharide precursor.'],\n",
       "    'http://www.geneontology.org/formats/oboInOwl#hasDbXref': ['OMIM:601110',\n",
       "     'OMIM:300884',\n",
       "     'OMIM:615042',\n",
       "     'OMIM:616457',\n",
       "     'OMIM:613661',\n",
       "     'OMIM:612015',\n",
       "     'OMIM:612379',\n",
       "     'Orphanet:79326',\n",
       "     'OMIM:608104',\n",
       "     'OMIM:212065',\n",
       "     'OMIM:608540',\n",
       "     'OMIM:612937',\n",
       "     'OMIM:603147',\n",
       "     'OMIM:602579',\n",
       "     'OMIM:608776',\n",
       "     'OMIM:608799',\n",
       "     'OMIM:300934',\n",
       "     'OMIM:607906',\n",
       "     'OMIM:615596',\n",
       "     'OMIM:608093',\n",
       "     'OMIM:615597',\n",
       "     'OMIM:609180',\n",
       "     'OMIM:614921',\n",
       "     'OMIM:614507',\n",
       "     'OMIM:610768',\n",
       "     'OMIM:607143'],\n",
       "    'http://www.geneontology.org/formats/oboInOwl#hasExactSynonym': ['PMM2-CDG (CDG-1a)',\n",
       "     'MPDU1-CDG (CDG-1f)',\n",
       "     'DPM2-CDG (CDG-1u)',\n",
       "     'SRD5A3-CDG (CDG-1q)',\n",
       "     'ALG6-CDG (CDG-1c)',\n",
       "     'ALG12-CDG (CDG-1g)',\n",
       "     'DPM1-CDG (CDG-1e)',\n",
       "     'ALG11-CDG (CDG-1p)',\n",
       "     'DOLK-CDG (CDG-1m)',\n",
       "     'DPAGT1-CDG (CDG-1j)',\n",
       "     'MPI-CDG (CDG-1b)',\n",
       "     'ALG3-CDG (CDG-1d)',\n",
       "     'ALG1-CDG (CDG-1k)',\n",
       "     'ALG2-CDG (CDG-1i)',\n",
       "     'ALG8-CDG (CDG-1h)',\n",
       "     'RFT1-CDG (CDG-1n)',\n",
       "     'ALG9-CDG (CDG-1l)',\n",
       "     'DPM3-CDG (CDG-1o)'],\n",
       "    'http://www.geneontology.org/formats/oboInOwl#hasOBONamespace': ['mondo'],\n",
       "    'http://www.geneontology.org/formats/oboInOwl#id': ['DOID:0050570'],\n",
       "    'http://www.w3.org/2000/01/rdf-schema#comment': ['OMIM mapping confirmed by DO. [SN].'],\n",
       "    'http://www.w3.org/2000/01/rdf-schema#label': ['congenital disorder of glycosylation type I'],\n",
       "    'synonym': ['PMM2-CDG (CDG-1a)',\n",
       "     'MPDU1-CDG (CDG-1f)',\n",
       "     'DPM2-CDG (CDG-1u)',\n",
       "     'SRD5A3-CDG (CDG-1q)',\n",
       "     'ALG6-CDG (CDG-1c)',\n",
       "     'ALG12-CDG (CDG-1g)',\n",
       "     'DPM1-CDG (CDG-1e)',\n",
       "     'ALG11-CDG (CDG-1p)',\n",
       "     'DOLK-CDG (CDG-1m)',\n",
       "     'DPAGT1-CDG (CDG-1j)',\n",
       "     'MPI-CDG (CDG-1b)',\n",
       "     'ALG3-CDG (CDG-1d)',\n",
       "     'ALG1-CDG (CDG-1k)',\n",
       "     'ALG2-CDG (CDG-1i)',\n",
       "     'ALG8-CDG (CDG-1h)',\n",
       "     'RFT1-CDG (CDG-1n)',\n",
       "     'ALG9-CDG (CDG-1l)',\n",
       "     'DPM3-CDG (CDG-1o)'],\n",
       "    'types': ['disease', 'cliqueLeader', 'Node', 'Class']}},\n",
       "  {'id': 'DOID:0060728',\n",
       "   'lbl': None,\n",
       "   'meta': {'category': ['disease'], 'types': ['disease', 'Node', 'Class']}},\n",
       "  {'id': 'OMIM:615273',\n",
       "   'lbl': 'NGLY1-deficiency',\n",
       "   'meta': {'category': ['disease'],\n",
       "    'definition': ['A carbohydrate metabolic disorder that has_material_basis_in homozygous or compound heterozygous mutation in the NGLY1 gene on chromosome 1p24. It is characterized by global developmental delay, hypotonia, abnormal involuntary movements, and alacrima or poor tear production.'],\n",
       "    'http://purl.obolibrary.org/obo/IAO_0000115': ['A carbohydrate metabolic disorder that has_material_basis_in homozygous or compound heterozygous mutation in the NGLY1 gene on chromosome 1p24. It is characterized by global developmental delay, hypotonia, abnormal involuntary movements, and alacrima or poor tear production.'],\n",
       "    'http://www.geneontology.org/formats/oboInOwl#hasDbXref': ['DOID:0060728',\n",
       "     'Orphanet:404454',\n",
       "     'UMLS:C3808991',\n",
       "     'OMIM:615273',\n",
       "     'ICD10:E77.8'],\n",
       "    'http://www.geneontology.org/formats/oboInOwl#hasExactSynonym': ['NGLY1-CDDG',\n",
       "     'deficiency of N-glycanase 1',\n",
       "     'NGLY1 deficiency',\n",
       "     'congenital disorder of glycosylation type Iv',\n",
       "     'congenital disorder of deglycosylation'],\n",
       "    'http://www.geneontology.org/formats/oboInOwl#hasOBONamespace': ['mondo'],\n",
       "    'http://www.geneontology.org/formats/oboInOwl#hasRelatedSynonym': ['Cdg Iv',\n",
       "     'Congenital Disorder of Glycosylation, Type Iv, Formerly',\n",
       "     'Cdg Iv, Formerly',\n",
       "     'Congenital Disorder of Glycosylation, Type Iv',\n",
       "     'CONGENITAL DISORDER OF DEGLYCOSYLATION; CDDG',\n",
       "     'CDDG'],\n",
       "    'http://www.geneontology.org/formats/oboInOwl#id': ['OMIM:615273'],\n",
       "    'http://www.w3.org/2000/01/rdf-schema#label': ['NGLY1-deficiency'],\n",
       "    'synonym': ['NGLY1-CDDG',\n",
       "     'Cdg Iv',\n",
       "     'Congenital Disorder of Glycosylation, Type Iv, Formerly',\n",
       "     'Cdg Iv, Formerly',\n",
       "     'Congenital Disorder of Glycosylation, Type Iv',\n",
       "     'CONGENITAL DISORDER OF DEGLYCOSYLATION; CDDG',\n",
       "     'deficiency of N-glycanase 1',\n",
       "     'NGLY1 deficiency',\n",
       "     'CDDG',\n",
       "     'congenital disorder of glycosylation type Iv',\n",
       "     'congenital disorder of deglycosylation'],\n",
       "    'types': ['disease', 'cliqueLeader', 'Node', 'Class']}},\n",
       "  {'id': 'Orphanet:183763',\n",
       "   'lbl': 'Rare genetic intellectual disability with developmental anomaly',\n",
       "   'meta': {'category': ['disease'],\n",
       "    'http://www.geneontology.org/formats/oboInOwl#hasOBONamespace': ['mondo'],\n",
       "    'http://www.geneontology.org/formats/oboInOwl#id': ['Orphanet:183763'],\n",
       "    'http://www.w3.org/2000/01/rdf-schema#label': ['Rare genetic intellectual disability with developmental anomaly'],\n",
       "    'types': ['disease', 'cliqueLeader', 'Node', 'Class']}},\n",
       "  {'id': 'Orphanet:377788',\n",
       "   'lbl': None,\n",
       "   'meta': {'types': ['cliqueLeader', 'Node']}},\n",
       "  {'id': 'UMLS:C3808991',\n",
       "   'lbl': None,\n",
       "   'meta': {'category': ['disease'], 'types': ['disease', 'Node', 'Class']}},\n",
       "  {'id': 'Orphanet:91088',\n",
       "   'lbl': 'Other metabolic disease',\n",
       "   'meta': {'category': ['disease'],\n",
       "    'http://www.geneontology.org/formats/oboInOwl#hasOBONamespace': ['mondo'],\n",
       "    'http://www.geneontology.org/formats/oboInOwl#id': ['Orphanet:91088'],\n",
       "    'http://www.w3.org/2000/01/rdf-schema#label': ['Other metabolic disease'],\n",
       "    'types': ['disease', 'cliqueLeader', 'Node', 'Class']}}]}"
      ]
     },
     "execution_count": 6,
     "metadata": {},
     "output_type": "execute_result"
    }
   ],
   "source": [
    "# Read results \n",
    "r.json()"
   ]
  },
  {
   "cell_type": "code",
   "execution_count": 7,
   "metadata": {
    "collapsed": true
   },
   "outputs": [],
   "source": [
    "with open('{}_neighbors.json'.format(path), 'w') as f:\n",
    "    json.dump(r.json(), f, sort_keys=True, indent=4)"
   ]
  },
  {
   "cell_type": "code",
   "execution_count": 8,
   "metadata": {},
   "outputs": [
    {
     "data": {
      "text/html": [
       "<div>\n",
       "<table border=\"1\" class=\"dataframe\">\n",
       "  <thead>\n",
       "    <tr style=\"text-align: right;\">\n",
       "      <th></th>\n",
       "      <th>id</th>\n",
       "      <th>lbl</th>\n",
       "      <th>meta</th>\n",
       "    </tr>\n",
       "  </thead>\n",
       "  <tbody>\n",
       "    <tr>\n",
       "      <th>0</th>\n",
       "      <td>OBO:upheno/monarch.owl</td>\n",
       "      <td>None</td>\n",
       "      <td>{'types': ['Ontology', 'cliqueLeader', 'Node']}</td>\n",
       "    </tr>\n",
       "    <tr>\n",
       "      <th>1</th>\n",
       "      <td>Orphanet:404454</td>\n",
       "      <td>None</td>\n",
       "      <td>{'category': ['disease'], 'types': ['disease',...</td>\n",
       "    </tr>\n",
       "    <tr>\n",
       "      <th>2</th>\n",
       "      <td>DOID:0050570</td>\n",
       "      <td>congenital disorder of glycosylation type I</td>\n",
       "      <td>{'http://www.geneontology.org/formats/oboInOwl...</td>\n",
       "    </tr>\n",
       "    <tr>\n",
       "      <th>3</th>\n",
       "      <td>DOID:0060728</td>\n",
       "      <td>None</td>\n",
       "      <td>{'category': ['disease'], 'types': ['disease',...</td>\n",
       "    </tr>\n",
       "    <tr>\n",
       "      <th>4</th>\n",
       "      <td>OMIM:615273</td>\n",
       "      <td>NGLY1-deficiency</td>\n",
       "      <td>{'http://www.geneontology.org/formats/oboInOwl...</td>\n",
       "    </tr>\n",
       "  </tbody>\n",
       "</table>\n",
       "</div>"
      ],
      "text/plain": [
       "                       id                                          lbl  \\\n",
       "0  OBO:upheno/monarch.owl                                         None   \n",
       "1         Orphanet:404454                                         None   \n",
       "2            DOID:0050570  congenital disorder of glycosylation type I   \n",
       "3            DOID:0060728                                         None   \n",
       "4             OMIM:615273                             NGLY1-deficiency   \n",
       "\n",
       "                                                meta  \n",
       "0    {'types': ['Ontology', 'cliqueLeader', 'Node']}  \n",
       "1  {'category': ['disease'], 'types': ['disease',...  \n",
       "2  {'http://www.geneontology.org/formats/oboInOwl...  \n",
       "3  {'category': ['disease'], 'types': ['disease',...  \n",
       "4  {'http://www.geneontology.org/formats/oboInOwl...  "
      ]
     },
     "execution_count": 8,
     "metadata": {},
     "output_type": "execute_result"
    }
   ],
   "source": [
    "neighbors_df = json_normalize(r.json(), 'nodes')\n",
    "neighbors_df.head()"
   ]
  },
  {
   "cell_type": "code",
   "execution_count": 9,
   "metadata": {},
   "outputs": [
    {
     "name": "stdout",
     "output_type": "stream",
     "text": [
      "nodes: 9\n"
     ]
    }
   ],
   "source": [
    "# Analyze neighbours' types\n",
    "neighbors_df.id.unique()\n",
    "print('nodes: {}'.format(len(neighbors_df.id.unique())))"
   ]
  },
  {
   "cell_type": "code",
   "execution_count": 10,
   "metadata": {},
   "outputs": [
    {
     "data": {
      "text/plain": [
       "Orphanet    4\n",
       "DOID        2\n",
       "OMIM        1\n",
       "OBO         1\n",
       "UMLS        1\n",
       "Name: node_type, dtype: int64"
      ]
     },
     "execution_count": 10,
     "metadata": {},
     "output_type": "execute_result"
    }
   ],
   "source": [
    "neighbors_df['node_type'] = neighbors_df.id.apply(lambda x: x.split(':')[0])\n",
    "neighbors_df.node_type.value_counts()"
   ]
  },
  {
   "cell_type": "code",
   "execution_count": 11,
   "metadata": {
    "collapsed": true
   },
   "outputs": [],
   "source": [
    "# conclusion: neighbors are xref (Orphanet, DO, umls) and provenance"
   ]
  },
  {
   "cell_type": "code",
   "execution_count": 12,
   "metadata": {
    "collapsed": true
   },
   "outputs": [],
   "source": [
    "# Filters\n",
    "# Filter by interaction_type. BUT what are the strings per interaction_type???"
   ]
  },
  {
   "cell_type": "code",
   "execution_count": 13,
   "metadata": {},
   "outputs": [
    {
     "data": {
      "text/plain": [
       "{'Connection': 'keep-alive', 'Content-Length': '854', 'Cache-Control': 'no-transform, max-age=7200', 'Vary': 'Accept, Accept-Encoding', 'Content-Type': 'application/json', 'Server': 'nginx/1.10.0 (Ubuntu)', 'Content-Encoding': 'gzip', 'Date': 'Thu, 18 May 2017 17:25:09 GMT'}"
      ]
     },
     "execution_count": 13,
     "metadata": {},
     "output_type": "execute_result"
    }
   ],
   "source": [
    "# get reachable nodes (JSON content)\n",
    "r = requests.get('{}{}/reachablefrom/{}'.format(api,endpoint,disease))\n",
    "r.headers"
   ]
  },
  {
   "cell_type": "code",
   "execution_count": 14,
   "metadata": {},
   "outputs": [
    {
     "data": {
      "text/html": [
       "<div>\n",
       "<table border=\"1\" class=\"dataframe\">\n",
       "  <thead>\n",
       "    <tr style=\"text-align: right;\">\n",
       "      <th></th>\n",
       "      <th>id</th>\n",
       "      <th>lbl</th>\n",
       "      <th>meta</th>\n",
       "    </tr>\n",
       "  </thead>\n",
       "  <tbody>\n",
       "    <tr>\n",
       "      <th>0</th>\n",
       "      <td>OBO:upheno/monarch.owl</td>\n",
       "      <td>None</td>\n",
       "      <td>{'types': ['Ontology', 'cliqueLeader', 'Node']}</td>\n",
       "    </tr>\n",
       "    <tr>\n",
       "      <th>1</th>\n",
       "      <td>Orphanet:404454</td>\n",
       "      <td>None</td>\n",
       "      <td>{'category': ['disease'], 'types': ['disease',...</td>\n",
       "    </tr>\n",
       "    <tr>\n",
       "      <th>2</th>\n",
       "      <td>DOID:0050570</td>\n",
       "      <td>congenital disorder of glycosylation type I</td>\n",
       "      <td>{'http://www.geneontology.org/formats/oboInOwl...</td>\n",
       "    </tr>\n",
       "    <tr>\n",
       "      <th>3</th>\n",
       "      <td>Orphanet:183763</td>\n",
       "      <td>Rare genetic intellectual disability with deve...</td>\n",
       "      <td>{'http://www.geneontology.org/formats/oboInOwl...</td>\n",
       "    </tr>\n",
       "    <tr>\n",
       "      <th>4</th>\n",
       "      <td>Orphanet:377788</td>\n",
       "      <td>None</td>\n",
       "      <td>{'types': ['cliqueLeader', 'Node']}</td>\n",
       "    </tr>\n",
       "  </tbody>\n",
       "</table>\n",
       "</div>"
      ],
      "text/plain": [
       "                       id                                                lbl  \\\n",
       "0  OBO:upheno/monarch.owl                                               None   \n",
       "1         Orphanet:404454                                               None   \n",
       "2            DOID:0050570        congenital disorder of glycosylation type I   \n",
       "3         Orphanet:183763  Rare genetic intellectual disability with deve...   \n",
       "4         Orphanet:377788                                               None   \n",
       "\n",
       "                                                meta  \n",
       "0    {'types': ['Ontology', 'cliqueLeader', 'Node']}  \n",
       "1  {'category': ['disease'], 'types': ['disease',...  \n",
       "2  {'http://www.geneontology.org/formats/oboInOwl...  \n",
       "3  {'http://www.geneontology.org/formats/oboInOwl...  \n",
       "4                {'types': ['cliqueLeader', 'Node']}  "
      ]
     },
     "execution_count": 14,
     "metadata": {},
     "output_type": "execute_result"
    }
   ],
   "source": [
    "# Read results \n",
    "r.json()\n",
    "reach_df = json_normalize(r.json(), 'nodes')\n",
    "reach_df.head()"
   ]
  },
  {
   "cell_type": "code",
   "execution_count": 15,
   "metadata": {},
   "outputs": [
    {
     "name": "stdout",
     "output_type": "stream",
     "text": [
      "nodes: 7\n"
     ]
    }
   ],
   "source": [
    "reach_df.id.unique()\n",
    "print('nodes: {}'.format(len(reach_df.id.unique())))"
   ]
  },
  {
   "cell_type": "code",
   "execution_count": 16,
   "metadata": {},
   "outputs": [
    {
     "data": {
      "text/plain": [
       "Orphanet    4\n",
       "DOID        1\n",
       "OBO         1\n",
       "UMLS        1\n",
       "Name: node_type, dtype: int64"
      ]
     },
     "execution_count": 16,
     "metadata": {},
     "output_type": "execute_result"
    }
   ],
   "source": [
    "reach_df['node_type'] = reach_df.id.apply(lambda x: x.split(':')[0])\n",
    "reach_df.node_type.value_counts()"
   ]
  },
  {
   "cell_type": "code",
   "execution_count": 17,
   "metadata": {
    "scrolled": true
   },
   "outputs": [
    {
     "data": {
      "text/html": [
       "<div>\n",
       "<table border=\"1\" class=\"dataframe\">\n",
       "  <thead>\n",
       "    <tr style=\"text-align: right;\">\n",
       "      <th></th>\n",
       "      <th>id</th>\n",
       "      <th>lbl</th>\n",
       "      <th>meta</th>\n",
       "      <th>node_type</th>\n",
       "    </tr>\n",
       "  </thead>\n",
       "  <tbody>\n",
       "    <tr>\n",
       "      <th>7</th>\n",
       "      <td>UMLS:C3808991</td>\n",
       "      <td>None</td>\n",
       "      <td>{'category': ['disease'], 'types': ['disease',...</td>\n",
       "      <td>UMLS</td>\n",
       "    </tr>\n",
       "  </tbody>\n",
       "</table>\n",
       "</div>"
      ],
      "text/plain": [
       "              id   lbl                                               meta  \\\n",
       "7  UMLS:C3808991  None  {'category': ['disease'], 'types': ['disease',...   \n",
       "\n",
       "  node_type  \n",
       "7      UMLS  "
      ]
     },
     "execution_count": 17,
     "metadata": {},
     "output_type": "execute_result"
    }
   ],
   "source": [
    "neighbors_df[neighbors_df.id.str.startswith('UMLS')]"
   ]
  },
  {
   "cell_type": "code",
   "execution_count": 18,
   "metadata": {
    "collapsed": true
   },
   "outputs": [],
   "source": [
    "# conclusion: reachables are xref"
   ]
  },
  {
   "cell_type": "markdown",
   "metadata": {},
   "source": [
    "## Edge Queries (Monarch)"
   ]
  },
  {
   "cell_type": "code",
   "execution_count": 19,
   "metadata": {
    "collapsed": true
   },
   "outputs": [],
   "source": [
    "# api address\n",
    "api = 'https://api.monarchinitiative.org/api'\n",
    "endpoint = '/bioentity'"
   ]
  },
  {
   "cell_type": "code",
   "execution_count": 20,
   "metadata": {},
   "outputs": [
    {
     "data": {
      "text/plain": [
       "{'foo': 'bar'}"
      ]
     },
     "execution_count": 20,
     "metadata": {},
     "output_type": "execute_result"
    }
   ],
   "source": [
    "# get gene info\n",
    "r = requests.get('{}{}/disease/{}'.format(api,endpoint,disease))\n",
    "#r = requests.get('https://api.monarchinitiative.org/api/bioentity/gene/%s/phenotypes/'%gene, headers={'Accept':'application/json'})\n",
    "r.headers\n",
    "r.json()"
   ]
  },
  {
   "cell_type": "code",
   "execution_count": 21,
   "metadata": {
    "collapsed": true
   },
   "outputs": [],
   "source": [
    "with open('{}_id.json'.format(path), 'w') as f:\n",
    "    json.dump(r.json(), f, sort_keys=True, indent=4)"
   ]
  },
  {
   "cell_type": "code",
   "execution_count": 22,
   "metadata": {},
   "outputs": [
    {
     "data": {
      "text/plain": [
       "{'evidence_graph': {'edges': None, 'nodes': None},\n",
       " 'evidence_types': None,\n",
       " 'id': None,\n",
       " 'object': {'categories': None,\n",
       "  'consider': None,\n",
       "  'deprecated': None,\n",
       "  'description': None,\n",
       "  'id': None,\n",
       "  'label': None,\n",
       "  'replaced_by': None,\n",
       "  'synonyms': None,\n",
       "  'taxon': {'id': None, 'label': None},\n",
       "  'types': None,\n",
       "  'xrefs': None},\n",
       " 'object_extension': None,\n",
       " 'provided_by': None,\n",
       " 'publications': None,\n",
       " 'qualifiers': None,\n",
       " 'relation': {'categories': None,\n",
       "  'consider': None,\n",
       "  'deprecated': None,\n",
       "  'description': None,\n",
       "  'id': None,\n",
       "  'label': None,\n",
       "  'replaced_by': None,\n",
       "  'synonyms': None,\n",
       "  'types': None},\n",
       " 'slim': None,\n",
       " 'subject': {'categories': None,\n",
       "  'consider': None,\n",
       "  'deprecated': None,\n",
       "  'description': None,\n",
       "  'id': None,\n",
       "  'label': None,\n",
       "  'replaced_by': None,\n",
       "  'synonyms': None,\n",
       "  'taxon': {'id': None, 'label': None},\n",
       "  'types': None,\n",
       "  'xrefs': None},\n",
       " 'subject_extension': None,\n",
       " 'type': None}"
      ]
     },
     "execution_count": 22,
     "metadata": {},
     "output_type": "execute_result"
    }
   ],
   "source": [
    "# get disease-anatomy\n",
    "r = requests.get('{}{}/disease/{}/anatomy/'.format(api,endpoint,disease))\n",
    "r.json()"
   ]
  },
  {
   "cell_type": "code",
   "execution_count": 23,
   "metadata": {},
   "outputs": [
    {
     "data": {
      "text/plain": [
       "{'evidence_graph': {'edges': None, 'nodes': None},\n",
       " 'evidence_types': None,\n",
       " 'id': None,\n",
       " 'object': {'categories': None,\n",
       "  'consider': None,\n",
       "  'deprecated': None,\n",
       "  'description': None,\n",
       "  'id': None,\n",
       "  'label': None,\n",
       "  'replaced_by': None,\n",
       "  'synonyms': None,\n",
       "  'taxon': {'id': None, 'label': None},\n",
       "  'types': None,\n",
       "  'xrefs': None},\n",
       " 'object_extension': None,\n",
       " 'provided_by': None,\n",
       " 'publications': None,\n",
       " 'qualifiers': None,\n",
       " 'relation': {'categories': None,\n",
       "  'consider': None,\n",
       "  'deprecated': None,\n",
       "  'description': None,\n",
       "  'id': None,\n",
       "  'label': None,\n",
       "  'replaced_by': None,\n",
       "  'synonyms': None,\n",
       "  'types': None},\n",
       " 'slim': None,\n",
       " 'subject': {'categories': None,\n",
       "  'consider': None,\n",
       "  'deprecated': None,\n",
       "  'description': None,\n",
       "  'id': None,\n",
       "  'label': None,\n",
       "  'replaced_by': None,\n",
       "  'synonyms': None,\n",
       "  'taxon': {'id': None, 'label': None},\n",
       "  'types': None,\n",
       "  'xrefs': None},\n",
       " 'subject_extension': None,\n",
       " 'type': None}"
      ]
     },
     "execution_count": 23,
     "metadata": {},
     "output_type": "execute_result"
    }
   ],
   "source": [
    "# get disease-function\n",
    "r = requests.get('{}{}/disease/{}/function/'.format(api, endpoint, disease))\n",
    "r.json()"
   ]
  },
  {
   "cell_type": "code",
   "execution_count": 24,
   "metadata": {},
   "outputs": [
    {
     "name": "stdout",
     "output_type": "stream",
     "text": [
      "Number of nodes associated are 1\n"
     ]
    },
    {
     "data": {
      "text/plain": [
       "{'associations': [{'evidence_graph': {'edges': [{'obj': ':.well-known/genid/genoGM25347',\n",
       "      'pred': 'GENO:0000222',\n",
       "      'sub': ':.well-known/genid/person-3200-1'},\n",
       "     {'obj': 'NCBIGene:55768',\n",
       "      'pred': 'GENO:0000418',\n",
       "      'sub': 'ClinVarVariant:126423'},\n",
       "     {'obj': ':.well-known/genid/610661.0004-610661.0005',\n",
       "      'pred': 'GENO:0000382',\n",
       "      'sub': ':.well-known/genid/genoGM25990'},\n",
       "     {'obj': 'OMIM:615273',\n",
       "      'pred': 'GENO:0000840',\n",
       "      'sub': 'ClinVarVariant:50962'},\n",
       "     {'obj': 'OMIM:615273',\n",
       "      'pred': 'RO:0002200',\n",
       "      'sub': ':.well-known/genid/person-3200-1'},\n",
       "     {'obj': 'OMIM:615273',\n",
       "      'pred': 'RO:0002200',\n",
       "      'sub': ':.well-known/genid/OMIM610661-615273VL'},\n",
       "     {'obj': ':.well-known/genid/person-3200-1',\n",
       "      'pred': 'OBAN:association_has_subject',\n",
       "      'sub': 'MONARCH:42d05e731935a651eaf999c2aeb046987f01cca7'},\n",
       "     {'obj': 'OMIM:615273',\n",
       "      'pred': 'OBAN:association_has_object',\n",
       "      'sub': 'MONARCH:a78544aa0feaec55807c289ba3d6aedadb69dbd8'},\n",
       "     {'obj': ':.well-known/genid/genoGM25340',\n",
       "      'pred': 'GENO:0000222',\n",
       "      'sub': ':.well-known/genid/person-3199-1'},\n",
       "     {'obj': 'OMIM:615273',\n",
       "      'pred': 'RO:0002200',\n",
       "      'sub': ':.well-known/genid/person-3199-1'},\n",
       "     {'obj': 'NCBIGene:55768',\n",
       "      'pred': 'GENO:0000408',\n",
       "      'sub': ':.well-known/genid/406885-404454VL'},\n",
       "     {'obj': ':.well-known/genid/406885-404454VL',\n",
       "      'pred': 'OBAN:association_has_subject',\n",
       "      'sub': 'MONARCH:665c1d3fbfc3abb0c5dc366dba0731358265d0f2'},\n",
       "     {'obj': ':.well-known/genid/OMIM610661-615273VL',\n",
       "      'pred': 'OBAN:association_has_subject',\n",
       "      'sub': 'MONARCH:980debcc2bf23bbd566978b66e42e8d7034e0df5'},\n",
       "     {'obj': 'OMIM:615273',\n",
       "      'pred': 'OBAN:association_has_object',\n",
       "      'sub': 'MONARCH:980debcc2bf23bbd566978b66e42e8d7034e0df5'},\n",
       "     {'obj': 'OMIM:610661.0005',\n",
       "      'pred': 'GENO:0000382',\n",
       "      'sub': ':.well-known/genid/610661.0004-610661.0005'},\n",
       "     {'obj': ':.well-known/genid/person-3199-1',\n",
       "      'pred': 'OBAN:association_has_subject',\n",
       "      'sub': 'MONARCH:4d8303fb4655006e8df2cb50e32740b91d6c3e65'},\n",
       "     {'obj': 'OMIM:615273',\n",
       "      'pred': 'OBAN:association_has_object',\n",
       "      'sub': 'MONARCH:42d05e731935a651eaf999c2aeb046987f01cca7'},\n",
       "     {'obj': 'OMIM:610661.0004',\n",
       "      'pred': 'GENO:0000382',\n",
       "      'sub': ':.well-known/genid/610661.0004-610661.0005'},\n",
       "     {'obj': 'OMIM:615273',\n",
       "      'pred': 'RO:0002200',\n",
       "      'sub': ':.well-known/genid/person-3213-1'},\n",
       "     {'obj': 'OMIM:615273',\n",
       "      'pred': 'RO:0002607',\n",
       "      'sub': ':.well-known/genid/KEGG-hsa55768-OMIM615273VL'},\n",
       "     {'obj': 'OMIM:615273',\n",
       "      'pred': 'OBAN:association_has_object',\n",
       "      'sub': 'MONARCH:8ece42278dc99592834ea5e667d42545d79f409a'},\n",
       "     {'obj': ':.well-known/genid/person-GM25990',\n",
       "      'pred': 'OBAN:association_has_subject',\n",
       "      'sub': 'MONARCH:a78544aa0feaec55807c289ba3d6aedadb69dbd8'},\n",
       "     {'obj': ':.well-known/genid/610661.0002',\n",
       "      'pred': 'GENO:0000382',\n",
       "      'sub': ':.well-known/genid/genoGM25347'},\n",
       "     {'obj': 'NCBIGene:55768',\n",
       "      'pred': 'GENO:0000408',\n",
       "      'sub': 'OMIM:610661.0001'},\n",
       "     {'obj': 'OMIM:610661.0002',\n",
       "      'pred': 'GENO:0000382',\n",
       "      'sub': ':.well-known/genid/610661.0001-610661.0002'},\n",
       "     {'obj': 'NCBIGene:55768',\n",
       "      'pred': 'GENO:0000408',\n",
       "      'sub': 'OMIM:610661.0002'},\n",
       "     {'obj': 'OMIM:615273',\n",
       "      'pred': 'OBAN:association_has_object',\n",
       "      'sub': 'MONARCH:665c1d3fbfc3abb0c5dc366dba0731358265d0f2'},\n",
       "     {'obj': 'NCBIGene:55768',\n",
       "      'pred': 'GENO:0000418',\n",
       "      'sub': ':.well-known/genid/OMIM610661-615273VL'},\n",
       "     {'obj': 'NCBIGene:55768',\n",
       "      'pred': 'GENO:0000408',\n",
       "      'sub': 'OMIM:610661.0003'},\n",
       "     {'obj': 'OMIM:615273',\n",
       "      'pred': 'GENO:0000840',\n",
       "      'sub': 'ClinVarVariant:126423'},\n",
       "     {'obj': 'OMIM:615273',\n",
       "      'pred': 'RO:0002200',\n",
       "      'sub': ':.well-known/genid/person-GM25990'},\n",
       "     {'obj': 'ECO:0000322',\n",
       "      'pred': 'RO:0002558',\n",
       "      'sub': 'MONARCH:665c1d3fbfc3abb0c5dc366dba0731358265d0f2'},\n",
       "     {'obj': 'OMIM:615273',\n",
       "      'pred': 'OBAN:association_has_object',\n",
       "      'sub': 'MONARCH:8a568df7358124fda2f7fdd2cead58e43c25a34c'},\n",
       "     {'obj': 'OMIM:615273',\n",
       "      'pred': 'RO:0002200',\n",
       "      'sub': ':.well-known/genid/406885-404454VL'},\n",
       "     {'obj': 'OMIM:610661.0003',\n",
       "      'pred': 'GENO:0000382',\n",
       "      'sub': ':.well-known/genid/610661.0003'},\n",
       "     {'obj': 'OMIM:615273',\n",
       "      'pred': 'OBAN:association_has_object',\n",
       "      'sub': 'MONARCH:4d8303fb4655006e8df2cb50e32740b91d6c3e65'},\n",
       "     {'obj': 'OMIM:615273',\n",
       "      'pred': 'GENO:0000840',\n",
       "      'sub': 'ClinVarVariant:126424'},\n",
       "     {'obj': 'ECO:0000220',\n",
       "      'pred': 'RO:0002558',\n",
       "      'sub': 'MONARCH:980debcc2bf23bbd566978b66e42e8d7034e0df5'},\n",
       "     {'obj': 'NCBIGene:55768',\n",
       "      'pred': 'GENO:0000418',\n",
       "      'sub': ':.well-known/genid/KEGG-hsa55768-OMIM615273VL'},\n",
       "     {'obj': ':.well-known/genid/genoGM25389',\n",
       "      'pred': 'GENO:0000222',\n",
       "      'sub': ':.well-known/genid/person-3213-1'},\n",
       "     {'obj': ':.well-known/genid/610661.0001-610661.0002',\n",
       "      'pred': 'GENO:0000382',\n",
       "      'sub': ':.well-known/genid/genoGM25340'},\n",
       "     {'obj': 'NCBIGene:55768',\n",
       "      'pred': 'GENO:0000408',\n",
       "      'sub': 'OMIM:610661.0005'},\n",
       "     {'obj': 'NCBIGene:55768',\n",
       "      'pred': 'GENO:0000408',\n",
       "      'sub': 'OMIM:610661.0004'},\n",
       "     {'obj': 'NCBIGene:55768',\n",
       "      'pred': 'GENO:0000418',\n",
       "      'sub': 'ClinVarVariant:126424'},\n",
       "     {'obj': 'NCBIGene:55768',\n",
       "      'pred': 'GENO:0000418',\n",
       "      'sub': 'ClinVarVariant:50962'},\n",
       "     {'obj': ':.well-known/genid/genoGM25990',\n",
       "      'pred': 'GENO:0000222',\n",
       "      'sub': ':.well-known/genid/person-GM25990'},\n",
       "     {'obj': ':.well-known/genid/person-3213-1',\n",
       "      'pred': 'OBAN:association_has_subject',\n",
       "      'sub': 'MONARCH:8ece42278dc99592834ea5e667d42545d79f409a'},\n",
       "     {'obj': 'NCBIGene:55768',\n",
       "      'pred': 'GENO:0000418',\n",
       "      'sub': 'ClinVarVariant:50961'},\n",
       "     {'obj': 'OMIM:615273',\n",
       "      'pred': 'GENO:0000840',\n",
       "      'sub': 'ClinVarVariant:126422'},\n",
       "     {'obj': ':.well-known/genid/KEGG-hsa55768-OMIM615273VL',\n",
       "      'pred': 'OBAN:association_has_subject',\n",
       "      'sub': 'MONARCH:8a568df7358124fda2f7fdd2cead58e43c25a34c'},\n",
       "     {'obj': 'OMIM:615273',\n",
       "      'pred': 'GENO:0000840',\n",
       "      'sub': 'ClinVarVariant:50961'},\n",
       "     {'obj': 'NCBIGene:55768',\n",
       "      'pred': 'GENO:0000418',\n",
       "      'sub': 'ClinVarVariant:126422'},\n",
       "     {'obj': 'OMIM:610661.0002',\n",
       "      'pred': 'GENO:0000382',\n",
       "      'sub': ':.well-known/genid/610661.0002'},\n",
       "     {'obj': ':.well-known/genid/610661.0003',\n",
       "      'pred': 'GENO:0000382',\n",
       "      'sub': ':.well-known/genid/genoGM25389'},\n",
       "     {'obj': 'OMIM:610661.0001',\n",
       "      'pred': 'GENO:0000382',\n",
       "      'sub': ':.well-known/genid/610661.0001-610661.0002'}],\n",
       "    'nodes': [{'id': ':.well-known/genid/person-3199-1',\n",
       "      'lbl': 'affected male proband with Congenital disorder of deglycosylation'},\n",
       "     {'id': 'ClinVarVariant:126423',\n",
       "      'lbl': 'NM_001145294.1(NGLY1):c.1079_1081delGAA (p.Arg360del)'},\n",
       "     {'id': ':.well-known/genid/person-3213-1',\n",
       "      'lbl': 'affected female proband with Congenital disorder of deglycosylation'},\n",
       "     {'id': ':.well-known/genid/610661.0004-610661.0005',\n",
       "      'lbl': 'NGLY1;NGLY1(3-BP DEL  1205 TTC;ARG542TER  c.1570C>T)'},\n",
       "     {'id': 'MONARCH:a78544aa0feaec55807c289ba3d6aedadb69dbd8', 'lbl': None},\n",
       "     {'id': 'ClinVarVariant:50961',\n",
       "      'lbl': 'NM_018297.3(NGLY1):c.1891delC (p.Gln631Serfs)'},\n",
       "     {'id': ':.well-known/genid/610661.0001-610661.0002',\n",
       "      'lbl': 'NGLY1;NGLY1(ARG401TER;c.1891delC)'},\n",
       "     {'id': ':.well-known/genid/person-GM25990',\n",
       "      'lbl': 'affected female proband with Congenital disorder of deglycosylation'},\n",
       "     {'id': 'OMIM:610661.0002', 'lbl': 'NGLY1, ARG401TER'},\n",
       "     {'id': ':.well-known/genid/610661.0002', 'lbl': 'NGLY1(ARG401TER)'},\n",
       "     {'id': 'ECO:0000322',\n",
       "      'lbl': 'imported manually asserted information used in automatic assertion'},\n",
       "     {'id': 'MONARCH:665c1d3fbfc3abb0c5dc366dba0731358265d0f2', 'lbl': None},\n",
       "     {'id': ':.well-known/genid/genoGM25347',\n",
       "      'lbl': 'NGLY1(ARG401TER) [GM25347]'},\n",
       "     {'id': 'MONARCH:8ece42278dc99592834ea5e667d42545d79f409a', 'lbl': None},\n",
       "     {'id': ':.well-known/genid/genoGM25340',\n",
       "      'lbl': 'NGLY1;NGLY1(ARG401TER;c.1891delC) [GM25340]'},\n",
       "     {'id': ':.well-known/genid/person-3200-1',\n",
       "      'lbl': 'affected male proband with Congenital disorder of deglycosylation'},\n",
       "     {'id': 'MONARCH:980debcc2bf23bbd566978b66e42e8d7034e0df5', 'lbl': None},\n",
       "     {'id': 'OMIM:610661.0003', 'lbl': 'NGLY1, 1-BP DUP, 1370G'},\n",
       "     {'id': 'NCBIGene:55768', 'lbl': 'NGLY1'},\n",
       "     {'id': 'ClinVarVariant:126424',\n",
       "      'lbl': 'NM_001145293.1(NGLY1):c.1570C>T (p.Arg524Ter)'},\n",
       "     {'id': 'MONARCH:8a568df7358124fda2f7fdd2cead58e43c25a34c', 'lbl': None},\n",
       "     {'id': 'OMIM:615273', 'lbl': 'NGLY1-deficiency'},\n",
       "     {'id': ':.well-known/genid/KEGG-hsa55768-OMIM615273VL',\n",
       "      'lbl': 'some variant of K01456 peptide-N4-(N-acetyl-beta-glucosaminyl)asparagine amidase [EC:3.5.1.52] | (RefSeq) NGLY1'},\n",
       "     {'id': 'OMIM:610661.0001', 'lbl': 'NGLY1, 1-BP DEL, 1891C'},\n",
       "     {'id': ':.well-known/genid/genoGM25990',\n",
       "      'lbl': 'NGLY1;NGLY1(3-BP DEL  1205 TTC;ARG542TER  c.1570C>T) [GM25990]'},\n",
       "     {'id': 'ECO:0000220', 'lbl': 'sequencing assay evidence'},\n",
       "     {'id': ':.well-known/genid/610661.0003',\n",
       "      'lbl': 'NGLY1(c.1370dupG  R458FsTER)'},\n",
       "     {'id': 'MONARCH:4d8303fb4655006e8df2cb50e32740b91d6c3e65', 'lbl': None},\n",
       "     {'id': ':.well-known/genid/OMIM610661-615273VL',\n",
       "      'lbl': 'some variant of NGLY1 that causes Congenital disorder of deglycosylation'},\n",
       "     {'id': ':.well-known/genid/genoGM25389',\n",
       "      'lbl': 'NGLY1(c.1370dupG  R458FsTER) [GM25389]'},\n",
       "     {'id': ':.well-known/genid/406885-404454VL',\n",
       "      'lbl': 'some variant of NGLY1 that is a disease-causing germline mutation(s) (loss of function) in Alacrimia-choreoathetosis-liver dysfunction syndrome'},\n",
       "     {'id': 'ClinVarVariant:126422',\n",
       "      'lbl': 'NM_018297.3(NGLY1):c.1370dupG (p.Arg458Lysfs)'},\n",
       "     {'id': 'ClinVarVariant:50962',\n",
       "      'lbl': 'NM_018297.3(NGLY1):c.1201A>T (p.Arg401Ter)'},\n",
       "     {'id': 'OMIM:610661.0005', 'lbl': 'NGLY1, ARG542TER'},\n",
       "     {'id': 'MONARCH:42d05e731935a651eaf999c2aeb046987f01cca7', 'lbl': None},\n",
       "     {'id': 'OMIM:610661.0004', 'lbl': 'NGLY1, 3-BP DEL, 1205TTC'}]},\n",
       "   'evidence_types': None,\n",
       "   'id': 'af89e914-68e5-4b3f-8d02-ee6d214a8a19',\n",
       "   'object': {'categories': None,\n",
       "    'consider': None,\n",
       "    'deprecated': None,\n",
       "    'description': None,\n",
       "    'id': 'OMIM:615273',\n",
       "    'label': 'NGLY1-deficiency',\n",
       "    'replaced_by': None,\n",
       "    'synonyms': None,\n",
       "    'taxon': {'id': None, 'label': None},\n",
       "    'types': None,\n",
       "    'xrefs': None},\n",
       "   'object_extension': None,\n",
       "   'provided_by': ['https://data.monarchinitiative.org/ttl/kegg.ttl',\n",
       "    'http://data.monarchinitiative.org/ttl/orphanet.ttl',\n",
       "    'https://data.monarchinitiative.org/ttl/omim.ttl',\n",
       "    'http://data.monarchinitiative.org/ttl/coriell.ttl',\n",
       "    'http://data.monarchinitiative.org/ttl/clinvar.ttl'],\n",
       "   'publications': None,\n",
       "   'qualifiers': None,\n",
       "   'relation': {'categories': None,\n",
       "    'consider': None,\n",
       "    'deprecated': None,\n",
       "    'description': None,\n",
       "    'id': None,\n",
       "    'label': None,\n",
       "    'replaced_by': None,\n",
       "    'synonyms': None,\n",
       "    'types': None},\n",
       "   'slim': None,\n",
       "   'subject': {'categories': None,\n",
       "    'consider': None,\n",
       "    'deprecated': None,\n",
       "    'description': None,\n",
       "    'id': 'NCBIGene:55768',\n",
       "    'label': 'NGLY1',\n",
       "    'replaced_by': None,\n",
       "    'synonyms': None,\n",
       "    'taxon': {'id': 'NCBITaxon:9606', 'label': 'Homo sapiens'},\n",
       "    'types': None,\n",
       "    'xrefs': None},\n",
       "   'subject_extension': None,\n",
       "   'type': None}],\n",
       " 'compact_associations': None,\n",
       " 'facet_counts': {'object_closure': {'BFO:0000001': 1,\n",
       "   'BFO:0000002': 1,\n",
       "   'BFO:0000016': 1,\n",
       "   'BFO:0000017': 1,\n",
       "   'BFO:0000020': 1,\n",
       "   'DOID:0014667': 1,\n",
       "   'DOID:0050013': 1,\n",
       "   'DOID:0050570': 1,\n",
       "   'DOID:0050888': 1,\n",
       "   'DOID:0060037': 1,\n",
       "   'DOID:0060038': 1,\n",
       "   'DOID:0060158': 1,\n",
       "   'DOID:0060728': 1,\n",
       "   'DOID:1059': 1,\n",
       "   'DOID:150': 1,\n",
       "   'DOID:2978': 1,\n",
       "   'DOID:4': 1,\n",
       "   'DOID:5212': 1,\n",
       "   'DOID:630': 1,\n",
       "   'DOID:655': 1,\n",
       "   'DOID:7': 1,\n",
       "   'DOID:863': 1,\n",
       "   'MESH:D001523': 1,\n",
       "   'MESH:D002239': 1,\n",
       "   'MESH:D004194': 1},\n",
       "  'subject_taxon_label': {'Homo sapiens': 1}},\n",
       " 'facet_pivot': None,\n",
       " 'numFound': None,\n",
       " 'objects': ['NCBIGene:55768'],\n",
       " 'start': None}"
      ]
     },
     "execution_count": 24,
     "metadata": {},
     "output_type": "execute_result"
    }
   ],
   "source": [
    "# get disease-gene\n",
    "r = requests.get('{}{}/disease/{}/genes/'.format(api,endpoint,disease))\n",
    "nassociations = len(r.json()['objects'])\n",
    "print('Number of nodes associated are {}'.format(nassociations))\n",
    "r.json()"
   ]
  },
  {
   "cell_type": "code",
   "execution_count": 25,
   "metadata": {
    "collapsed": true
   },
   "outputs": [],
   "source": [
    "with open('{}_genes.json'.format(path), 'w') as f:\n",
    "    json.dump(r.json(), f, sort_keys=True, indent=4)"
   ]
  },
  {
   "cell_type": "code",
   "execution_count": 26,
   "metadata": {},
   "outputs": [
    {
     "data": {
      "text/html": [
       "<div>\n",
       "<table border=\"1\" class=\"dataframe\">\n",
       "  <thead>\n",
       "    <tr style=\"text-align: right;\">\n",
       "      <th></th>\n",
       "      <th>gene_id</th>\n",
       "    </tr>\n",
       "  </thead>\n",
       "  <tbody>\n",
       "    <tr>\n",
       "      <th>0</th>\n",
       "      <td>NCBIGene:55768</td>\n",
       "    </tr>\n",
       "  </tbody>\n",
       "</table>\n",
       "</div>"
      ],
      "text/plain": [
       "          gene_id\n",
       "0  NCBIGene:55768"
      ]
     },
     "execution_count": 26,
     "metadata": {},
     "output_type": "execute_result"
    }
   ],
   "source": [
    "r_dict = r.json()\n",
    "gda_df = json_normalize(r_dict, 'objects')\n",
    "gda_df.columns = ['gene_id']\n",
    "gda_df.head(2)"
   ]
  },
  {
   "cell_type": "code",
   "execution_count": 27,
   "metadata": {
    "collapsed": true
   },
   "outputs": [],
   "source": [
    "gda_df.to_csv('{}_disease_gene.tsv'.format(path), sep='\\t', index=False, header=True)"
   ]
  },
  {
   "cell_type": "code",
   "execution_count": 28,
   "metadata": {},
   "outputs": [
    {
     "name": "stdout",
     "output_type": "stream",
     "text": [
      "Number of nodes associated are 8\n"
     ]
    }
   ],
   "source": [
    "# get disease-phenotype\n",
    "r = requests.get('{}{}/disease/{}/phenotypes/'.format(api,endpoint,disease))\n",
    "nassociations = len(r.json()['associations'])\n",
    "print('Number of nodes associated are {}'.format(nassociations))"
   ]
  },
  {
   "cell_type": "code",
   "execution_count": 29,
   "metadata": {
    "collapsed": true
   },
   "outputs": [],
   "source": [
    "with open('{}_phenotypes.json'.format(path), 'w') as f:\n",
    "    json.dump(r.json(), f, sort_keys=True, indent=4)"
   ]
  },
  {
   "cell_type": "code",
   "execution_count": 30,
   "metadata": {},
   "outputs": [
    {
     "data": {
      "text/html": [
       "<div>\n",
       "<table border=\"1\" class=\"dataframe\">\n",
       "  <thead>\n",
       "    <tr style=\"text-align: right;\">\n",
       "      <th></th>\n",
       "      <th>phenotype_id</th>\n",
       "    </tr>\n",
       "  </thead>\n",
       "  <tbody>\n",
       "    <tr>\n",
       "      <th>0</th>\n",
       "      <td>HP:0001252</td>\n",
       "    </tr>\n",
       "    <tr>\n",
       "      <th>1</th>\n",
       "      <td>HP:0001263</td>\n",
       "    </tr>\n",
       "  </tbody>\n",
       "</table>\n",
       "</div>"
      ],
      "text/plain": [
       "  phenotype_id\n",
       "0   HP:0001252\n",
       "1   HP:0001263"
      ]
     },
     "execution_count": 30,
     "metadata": {},
     "output_type": "execute_result"
    }
   ],
   "source": [
    "gph_df = json_normalize(r.json(), 'objects')\n",
    "gph_df.columns = ['phenotype_id']\n",
    "gph_df.head(2)"
   ]
  },
  {
   "cell_type": "code",
   "execution_count": 31,
   "metadata": {
    "collapsed": true
   },
   "outputs": [],
   "source": [
    "gph_df.to_csv('{}_disease_phenotype.tsv'.format(path), sep='\\t', index=False, header=True)"
   ]
  },
  {
   "cell_type": "code",
   "execution_count": 32,
   "metadata": {},
   "outputs": [
    {
     "ename": "JSONDecodeError",
     "evalue": "Expecting value: line 1 column 1 (char 0)",
     "output_type": "error",
     "traceback": [
      "\u001b[0;31m---------------------------------------------------------------------------\u001b[0m",
      "\u001b[0;31mJSONDecodeError\u001b[0m                           Traceback (most recent call last)",
      "\u001b[0;32m<ipython-input-32-fa61233343bc>\u001b[0m in \u001b[0;36m<module>\u001b[0;34m()\u001b[0m\n\u001b[1;32m      1\u001b[0m \u001b[0;31m# get disease-substance\u001b[0m\u001b[0;34m\u001b[0m\u001b[0;34m\u001b[0m\u001b[0m\n\u001b[1;32m      2\u001b[0m \u001b[0mr\u001b[0m \u001b[0;34m=\u001b[0m \u001b[0mrequests\u001b[0m\u001b[0;34m.\u001b[0m\u001b[0mget\u001b[0m\u001b[0;34m(\u001b[0m\u001b[0;34m'{}{}/disease/{}/substance/'\u001b[0m\u001b[0;34m.\u001b[0m\u001b[0mformat\u001b[0m\u001b[0;34m(\u001b[0m\u001b[0mapi\u001b[0m\u001b[0;34m,\u001b[0m\u001b[0mendpoint\u001b[0m\u001b[0;34m,\u001b[0m\u001b[0mdisease\u001b[0m\u001b[0;34m)\u001b[0m\u001b[0;34m)\u001b[0m\u001b[0;34m\u001b[0m\u001b[0m\n\u001b[0;32m----> 3\u001b[0;31m \u001b[0mr\u001b[0m\u001b[0;34m.\u001b[0m\u001b[0mjson\u001b[0m\u001b[0;34m(\u001b[0m\u001b[0;34m)\u001b[0m\u001b[0;34m\u001b[0m\u001b[0m\n\u001b[0m",
      "\u001b[0;32m/usr/lib/python3.5/site-packages/requests/models.py\u001b[0m in \u001b[0;36mjson\u001b[0;34m(self, **kwargs)\u001b[0m\n\u001b[1;32m    810\u001b[0m                     \u001b[0;31m# used.\u001b[0m\u001b[0;34m\u001b[0m\u001b[0;34m\u001b[0m\u001b[0m\n\u001b[1;32m    811\u001b[0m                     \u001b[0;32mpass\u001b[0m\u001b[0;34m\u001b[0m\u001b[0m\n\u001b[0;32m--> 812\u001b[0;31m         \u001b[0;32mreturn\u001b[0m \u001b[0mcomplexjson\u001b[0m\u001b[0;34m.\u001b[0m\u001b[0mloads\u001b[0m\u001b[0;34m(\u001b[0m\u001b[0mself\u001b[0m\u001b[0;34m.\u001b[0m\u001b[0mtext\u001b[0m\u001b[0;34m,\u001b[0m \u001b[0;34m**\u001b[0m\u001b[0mkwargs\u001b[0m\u001b[0;34m)\u001b[0m\u001b[0;34m\u001b[0m\u001b[0m\n\u001b[0m\u001b[1;32m    813\u001b[0m \u001b[0;34m\u001b[0m\u001b[0m\n\u001b[1;32m    814\u001b[0m     \u001b[0;34m@\u001b[0m\u001b[0mproperty\u001b[0m\u001b[0;34m\u001b[0m\u001b[0m\n",
      "\u001b[0;32m/usr/lib64/python3.5/json/__init__.py\u001b[0m in \u001b[0;36mloads\u001b[0;34m(s, encoding, cls, object_hook, parse_float, parse_int, parse_constant, object_pairs_hook, **kw)\u001b[0m\n\u001b[1;32m    317\u001b[0m             \u001b[0mparse_int\u001b[0m \u001b[0;32mis\u001b[0m \u001b[0;32mNone\u001b[0m \u001b[0;32mand\u001b[0m \u001b[0mparse_float\u001b[0m \u001b[0;32mis\u001b[0m \u001b[0;32mNone\u001b[0m \u001b[0;32mand\u001b[0m\u001b[0;34m\u001b[0m\u001b[0m\n\u001b[1;32m    318\u001b[0m             parse_constant is None and object_pairs_hook is None and not kw):\n\u001b[0;32m--> 319\u001b[0;31m         \u001b[0;32mreturn\u001b[0m \u001b[0m_default_decoder\u001b[0m\u001b[0;34m.\u001b[0m\u001b[0mdecode\u001b[0m\u001b[0;34m(\u001b[0m\u001b[0ms\u001b[0m\u001b[0;34m)\u001b[0m\u001b[0;34m\u001b[0m\u001b[0m\n\u001b[0m\u001b[1;32m    320\u001b[0m     \u001b[0;32mif\u001b[0m \u001b[0mcls\u001b[0m \u001b[0;32mis\u001b[0m \u001b[0;32mNone\u001b[0m\u001b[0;34m:\u001b[0m\u001b[0;34m\u001b[0m\u001b[0m\n\u001b[1;32m    321\u001b[0m         \u001b[0mcls\u001b[0m \u001b[0;34m=\u001b[0m \u001b[0mJSONDecoder\u001b[0m\u001b[0;34m\u001b[0m\u001b[0m\n",
      "\u001b[0;32m/usr/lib64/python3.5/json/decoder.py\u001b[0m in \u001b[0;36mdecode\u001b[0;34m(self, s, _w)\u001b[0m\n\u001b[1;32m    337\u001b[0m \u001b[0;34m\u001b[0m\u001b[0m\n\u001b[1;32m    338\u001b[0m         \"\"\"\n\u001b[0;32m--> 339\u001b[0;31m         \u001b[0mobj\u001b[0m\u001b[0;34m,\u001b[0m \u001b[0mend\u001b[0m \u001b[0;34m=\u001b[0m \u001b[0mself\u001b[0m\u001b[0;34m.\u001b[0m\u001b[0mraw_decode\u001b[0m\u001b[0;34m(\u001b[0m\u001b[0ms\u001b[0m\u001b[0;34m,\u001b[0m \u001b[0midx\u001b[0m\u001b[0;34m=\u001b[0m\u001b[0m_w\u001b[0m\u001b[0;34m(\u001b[0m\u001b[0ms\u001b[0m\u001b[0;34m,\u001b[0m \u001b[0;36m0\u001b[0m\u001b[0;34m)\u001b[0m\u001b[0;34m.\u001b[0m\u001b[0mend\u001b[0m\u001b[0;34m(\u001b[0m\u001b[0;34m)\u001b[0m\u001b[0;34m)\u001b[0m\u001b[0;34m\u001b[0m\u001b[0m\n\u001b[0m\u001b[1;32m    340\u001b[0m         \u001b[0mend\u001b[0m \u001b[0;34m=\u001b[0m \u001b[0m_w\u001b[0m\u001b[0;34m(\u001b[0m\u001b[0ms\u001b[0m\u001b[0;34m,\u001b[0m \u001b[0mend\u001b[0m\u001b[0;34m)\u001b[0m\u001b[0;34m.\u001b[0m\u001b[0mend\u001b[0m\u001b[0;34m(\u001b[0m\u001b[0;34m)\u001b[0m\u001b[0;34m\u001b[0m\u001b[0m\n\u001b[1;32m    341\u001b[0m         \u001b[0;32mif\u001b[0m \u001b[0mend\u001b[0m \u001b[0;34m!=\u001b[0m \u001b[0mlen\u001b[0m\u001b[0;34m(\u001b[0m\u001b[0ms\u001b[0m\u001b[0;34m)\u001b[0m\u001b[0;34m:\u001b[0m\u001b[0;34m\u001b[0m\u001b[0m\n",
      "\u001b[0;32m/usr/lib64/python3.5/json/decoder.py\u001b[0m in \u001b[0;36mraw_decode\u001b[0;34m(self, s, idx)\u001b[0m\n\u001b[1;32m    355\u001b[0m             \u001b[0mobj\u001b[0m\u001b[0;34m,\u001b[0m \u001b[0mend\u001b[0m \u001b[0;34m=\u001b[0m \u001b[0mself\u001b[0m\u001b[0;34m.\u001b[0m\u001b[0mscan_once\u001b[0m\u001b[0;34m(\u001b[0m\u001b[0ms\u001b[0m\u001b[0;34m,\u001b[0m \u001b[0midx\u001b[0m\u001b[0;34m)\u001b[0m\u001b[0;34m\u001b[0m\u001b[0m\n\u001b[1;32m    356\u001b[0m         \u001b[0;32mexcept\u001b[0m \u001b[0mStopIteration\u001b[0m \u001b[0;32mas\u001b[0m \u001b[0merr\u001b[0m\u001b[0;34m:\u001b[0m\u001b[0;34m\u001b[0m\u001b[0m\n\u001b[0;32m--> 357\u001b[0;31m             \u001b[0;32mraise\u001b[0m \u001b[0mJSONDecodeError\u001b[0m\u001b[0;34m(\u001b[0m\u001b[0;34m\"Expecting value\"\u001b[0m\u001b[0;34m,\u001b[0m \u001b[0ms\u001b[0m\u001b[0;34m,\u001b[0m \u001b[0merr\u001b[0m\u001b[0;34m.\u001b[0m\u001b[0mvalue\u001b[0m\u001b[0;34m)\u001b[0m \u001b[0;32mfrom\u001b[0m \u001b[0;32mNone\u001b[0m\u001b[0;34m\u001b[0m\u001b[0m\n\u001b[0m\u001b[1;32m    358\u001b[0m         \u001b[0;32mreturn\u001b[0m \u001b[0mobj\u001b[0m\u001b[0;34m,\u001b[0m \u001b[0mend\u001b[0m\u001b[0;34m\u001b[0m\u001b[0m\n",
      "\u001b[0;31mJSONDecodeError\u001b[0m: Expecting value: line 1 column 1 (char 0)"
     ]
    }
   ],
   "source": [
    "# get disease-substance\n",
    "r = requests.get('{}{}/disease/{}/substance/'.format(api,endpoint,disease))\n",
    "r.json()"
   ]
  },
  {
   "cell_type": "markdown",
   "metadata": {},
   "source": [
    "## Query Wikidata for Knowldege.Bio"
   ]
  },
  {
   "cell_type": "code",
   "execution_count": 33,
   "metadata": {
    "collapsed": true
   },
   "outputs": [],
   "source": [
    "# api address:\n",
    "api = 'https://query.wikidata.org/sparql'"
   ]
  },
  {
   "cell_type": "code",
   "execution_count": 127,
   "metadata": {
    "collapsed": true
   },
   "outputs": [],
   "source": [
    "def generate_table(header, results):\n",
    "    df = {}\n",
    "    for res_d in results:\n",
    "        for head in header:\n",
    "            df[head] = []\n",
    "        \n",
    "    for res_d in results:\n",
    "        for head in header:\n",
    "            try:\n",
    "                value = res_d[head]['value']\n",
    "            except:\n",
    "                value = 'NA'\n",
    "            if value.startswith('http'):\n",
    "                namespace, value = value.rsplit('/', 1)\n",
    "            aux = df[head]\n",
    "            aux.append(value)\n",
    "            df[head] = aux\n",
    "            \n",
    "    try:\n",
    "        results_df = pd.DataFrame.from_dict(df)\n",
    "    except e:\n",
    "        print(e)\n",
    "        print(df)\n",
    "        \n",
    "    results_df = results_df[header]\n",
    "    return results_df"
   ]
  },
  {
   "cell_type": "code",
   "execution_count": 34,
   "metadata": {
    "collapsed": true
   },
   "outputs": [],
   "source": [
    "# get doid: \n",
    "query = \"\"\"SELECT DISTINCT ?doid ?item ?itemLabel (group_concat(distinct ?itemaltLabel; separator=\"|\") as ?altLabel) ?itemDesc\n",
    "WHERE\n",
    "{\n",
    "  {?item wdt:P31 wd:Q12136 }\n",
    "  UNION\n",
    "  {?item wdt:P279 wd:Q12136 .}\n",
    "  ?item wdt:P699 ?doid .\n",
    "  values ?doid {\"DOID:0060728\"}\n",
    "  OPTIONAL{\n",
    "  ?item skos:altLabel ?itemaltLabel .\n",
    "    FILTER(LANG(?itemaltLabel) = \"en\")\n",
    "  ?item schema:description ?itemDesc .\n",
    "    FILTER(LANG(?itemDesc) = \"en\")\n",
    "  }\n",
    "  SERVICE wikibase:label { bd:serviceParam wikibase:language \"en\" }\n",
    "}\n",
    "group by ?item ?doid ?itemLabel ?itemDesc\"\"\""
   ]
  },
  {
   "cell_type": "code",
   "execution_count": 35,
   "metadata": {
    "scrolled": true
   },
   "outputs": [
    {
     "data": {
      "text/plain": [
       "{'head': {'vars': ['doid', 'item', 'itemLabel', 'altLabel', 'itemDesc']},\n",
       " 'results': {'bindings': [{'altLabel': {'type': 'literal',\n",
       "     'value': 'Alacrimia-choreoathetosis-liver dysfunction syndrome|congenital disorder of deglycosylation|congenital disorder of glycosylation type Iv|deficiency of N-glycanase 1|NGLY1-CDDG'},\n",
       "    'doid': {'type': 'literal', 'value': 'DOID:0060728'},\n",
       "    'item': {'type': 'uri',\n",
       "     'value': 'http://www.wikidata.org/entity/Q28024539'},\n",
       "    'itemDesc': {'type': 'literal',\n",
       "     'value': 'Human disease',\n",
       "     'xml:lang': 'en'},\n",
       "    'itemLabel': {'type': 'literal',\n",
       "     'value': 'NGLY1-deficiency',\n",
       "     'xml:lang': 'en'}}]}}"
      ]
     },
     "execution_count": 35,
     "metadata": {},
     "output_type": "execute_result"
    }
   ],
   "source": [
    "r = requests.post(api, data={'query': query}, headers={'Accept':'application/sparql-results+json'})\n",
    "r.json()"
   ]
  },
  {
   "cell_type": "code",
   "execution_count": 130,
   "metadata": {},
   "outputs": [
    {
     "data": {
      "text/html": [
       "<div>\n",
       "<table border=\"1\" class=\"dataframe\">\n",
       "  <thead>\n",
       "    <tr style=\"text-align: right;\">\n",
       "      <th></th>\n",
       "      <th>doid</th>\n",
       "      <th>item</th>\n",
       "      <th>itemLabel</th>\n",
       "      <th>altLabel</th>\n",
       "      <th>itemDesc</th>\n",
       "    </tr>\n",
       "  </thead>\n",
       "  <tbody>\n",
       "    <tr>\n",
       "      <th>0</th>\n",
       "      <td>DOID:0060728</td>\n",
       "      <td>Q28024539</td>\n",
       "      <td>NGLY1-deficiency</td>\n",
       "      <td>Alacrimia-choreoathetosis-liver dysfunction sy...</td>\n",
       "      <td>Human disease</td>\n",
       "    </tr>\n",
       "  </tbody>\n",
       "</table>\n",
       "</div>"
      ],
      "text/plain": [
       "           doid       item         itemLabel  \\\n",
       "0  DOID:0060728  Q28024539  NGLY1-deficiency   \n",
       "\n",
       "                                            altLabel       itemDesc  \n",
       "0  Alacrimia-choreoathetosis-liver dysfunction sy...  Human disease  "
      ]
     },
     "execution_count": 130,
     "metadata": {},
     "output_type": "execute_result"
    }
   ],
   "source": [
    "header_l = r.json()['head']['vars']\n",
    "results_l = r.json()['results']['bindings']\n",
    "df = generate_table(header_l, results_l)\n",
    "df"
   ]
  },
  {
   "cell_type": "code",
   "execution_count": 131,
   "metadata": {
    "collapsed": true
   },
   "outputs": [],
   "source": [
    "df.to_csv('{}_doid_concepts_kb.tsv'.format(path), sep='\\t', index=False, header=True)"
   ]
  },
  {
   "cell_type": "code",
   "execution_count": 132,
   "metadata": {
    "collapsed": true
   },
   "outputs": [],
   "source": [
    "# get NCBIGene:\n",
    "query = \"\"\"SELECT DISTINCT ?id ?item ?itemLabel (group_concat(distinct ?itemaltLabel; separator=\"|\") as ?altLabel) ?itemDesc\n",
    "WHERE\n",
    "{\n",
    "  {?item wdt:P351 ?id .} # ncbi gene\n",
    "  values ?id {\"55768\"}\n",
    "  OPTIONAL{\n",
    "  ?item skos:altLabel ?itemaltLabel .\n",
    "    FILTER(LANG(?itemaltLabel) = \"en\")\n",
    "  ?item schema:description ?itemDesc .\n",
    "    FILTER(LANG(?itemDesc) = \"en\")\n",
    "  }\n",
    "  SERVICE wikibase:label { bd:serviceParam wikibase:language \"en\" }\n",
    "}\n",
    "group by ?item ?id ?itemLabel ?itemDesc\"\"\""
   ]
  },
  {
   "cell_type": "code",
   "execution_count": 133,
   "metadata": {},
   "outputs": [
    {
     "data": {
      "text/plain": [
       "{'head': {'vars': ['id', 'item', 'itemLabel', 'altLabel', 'itemDesc']},\n",
       " 'results': {'bindings': [{'altLabel': {'type': 'literal',\n",
       "     'value': 'CDDG|CDG1V|N-glycanase 1|NGLY1|PNG1|PNGase'},\n",
       "    'id': {'type': 'literal', 'value': '55768'},\n",
       "    'item': {'type': 'uri',\n",
       "     'value': 'http://www.wikidata.org/entity/Q18042037'},\n",
       "    'itemDesc': {'type': 'literal',\n",
       "     'value': 'protein-coding gene in the species Homo sapiens',\n",
       "     'xml:lang': 'en'},\n",
       "    'itemLabel': {'type': 'literal', 'value': 'NGLY1', 'xml:lang': 'en'}}]}}"
      ]
     },
     "execution_count": 133,
     "metadata": {},
     "output_type": "execute_result"
    }
   ],
   "source": [
    "r = requests.post(api, data={'query': query}, headers={'Accept':'application/sparql-results+json'})\n",
    "r.json()"
   ]
  },
  {
   "cell_type": "code",
   "execution_count": 134,
   "metadata": {},
   "outputs": [
    {
     "data": {
      "text/html": [
       "<div>\n",
       "<table border=\"1\" class=\"dataframe\">\n",
       "  <thead>\n",
       "    <tr style=\"text-align: right;\">\n",
       "      <th></th>\n",
       "      <th>id</th>\n",
       "      <th>item</th>\n",
       "      <th>itemLabel</th>\n",
       "      <th>altLabel</th>\n",
       "      <th>itemDesc</th>\n",
       "    </tr>\n",
       "  </thead>\n",
       "  <tbody>\n",
       "    <tr>\n",
       "      <th>0</th>\n",
       "      <td>55768</td>\n",
       "      <td>Q18042037</td>\n",
       "      <td>NGLY1</td>\n",
       "      <td>CDDG|CDG1V|N-glycanase 1|NGLY1|PNG1|PNGase</td>\n",
       "      <td>protein-coding gene in the species Homo sapiens</td>\n",
       "    </tr>\n",
       "  </tbody>\n",
       "</table>\n",
       "</div>"
      ],
      "text/plain": [
       "      id       item itemLabel                                    altLabel  \\\n",
       "0  55768  Q18042037     NGLY1  CDDG|CDG1V|N-glycanase 1|NGLY1|PNG1|PNGase   \n",
       "\n",
       "                                          itemDesc  \n",
       "0  protein-coding gene in the species Homo sapiens  "
      ]
     },
     "execution_count": 134,
     "metadata": {},
     "output_type": "execute_result"
    }
   ],
   "source": [
    "header_l = r.json()['head']['vars']\n",
    "results_l = r.json()['results']['bindings']\n",
    "df = generate_table(header_l, results_l)\n",
    "df"
   ]
  },
  {
   "cell_type": "code",
   "execution_count": 135,
   "metadata": {
    "collapsed": true
   },
   "outputs": [],
   "source": [
    "df.to_csv('{}_ncbigene_concepts_kb.tsv'.format(path), sep='\\t', index=False, header=True)"
   ]
  },
  {
   "cell_type": "code",
   "execution_count": null,
   "metadata": {
    "collapsed": true
   },
   "outputs": [],
   "source": []
  },
  {
   "cell_type": "code",
   "execution_count": null,
   "metadata": {
    "collapsed": true
   },
   "outputs": [],
   "source": []
  },
  {
   "cell_type": "code",
   "execution_count": null,
   "metadata": {
    "collapsed": true
   },
   "outputs": [],
   "source": []
  },
  {
   "cell_type": "code",
   "execution_count": null,
   "metadata": {
    "collapsed": true
   },
   "outputs": [],
   "source": []
  },
  {
   "cell_type": "code",
   "execution_count": null,
   "metadata": {
    "collapsed": true
   },
   "outputs": [],
   "source": []
  }
 ],
 "metadata": {
  "kernelspec": {
   "display_name": "Python 3",
   "language": "python",
   "name": "python3"
  },
  "language_info": {
   "codemirror_mode": {
    "name": "ipython",
    "version": 3
   },
   "file_extension": ".py",
   "mimetype": "text/x-python",
   "name": "python",
   "nbconvert_exporter": "python",
   "pygments_lexer": "ipython3",
   "version": "3.6.1"
  }
 },
 "nbformat": 4,
 "nbformat_minor": 2
}
