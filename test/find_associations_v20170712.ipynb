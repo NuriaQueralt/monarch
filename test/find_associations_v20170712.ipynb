{
 "cells": [
  {
   "cell_type": "code",
   "execution_count": 67,
   "metadata": {
    "collapsed": true
   },
   "outputs": [],
   "source": [
    "import os, sys\n",
    "import pandas as pd\n",
    "from tqdm import tqdm\n",
    "import requests\n",
    "import json\n",
    "from pandas.io.json import json_normalize\n",
    "sys.path.insert(0,'/home/nuria/workspace/utils3/lib/')\n",
    "import abravo_lib as utils"
   ]
  },
  {
   "cell_type": "code",
   "execution_count": 68,
   "metadata": {
    "collapsed": true
   },
   "outputs": [],
   "source": [
    "# api addresses\n",
    "biolink = 'https://api.monarchinitiative.org/api'\n",
    "\n",
    "# endpoint\n",
    "endpoint = '/association'\n",
    "\n",
    "# path to data\n",
    "path = os.getcwd() + '/find_associations'\n",
    "if not os.path.isdir(path): os.makedirs(path)\n",
    "\n",
    "# read data\n",
    "sys.path.insert(0, './find_associations/')\n",
    "#/workspace/repurposing/rephetio-su/ngly1-net/networks/curated_1shellMonarchExpansion/data"
   ]
  },
  {
   "cell_type": "code",
   "execution_count": 69,
   "metadata": {
    "collapsed": true
   },
   "outputs": [],
   "source": [
    "# function get monarch associations\n",
    "def hitMonarchApi(node = 'NCBIGene:55768'):\n",
    "    '''This function performs api calls to Monarch for in and out edges. \n",
    "        It returns associated nodes'''\n",
    "    \n",
    "    # api addresses\n",
    "    biolink = 'https://api.monarchinitiative.org/api/association'\n",
    "    \n",
    "    # parameters\n",
    "    #data = {'use_compact_associations':'true','fl_excludes_evidence':'true'}\n",
    "    data = {'fl_excludes_evidence':'true'}\n",
    "    \n",
    "    # out edges: from/\n",
    "    r_out = requests.get('{}/from/{}'.format(biolink,node),data)\n",
    "\n",
    "    # in edges: to/\n",
    "    r_in = requests.get('{}/to/{}'.format(biolink,node),data)\n",
    "\n",
    "    return r_out, r_in "
   ]
  },
  {
   "cell_type": "code",
   "execution_count": 85,
   "metadata": {
    "collapsed": true
   },
   "outputs": [],
   "source": [
    "# prepare monarch api response as a tuple\n",
    "def getMonarchEdges(r_out, r_in):\n",
    "    '''This function prepare the api object response from monarch to a tuple. \n",
    "       It returns a tuple of edges: {(s,r,o),(s,r,o),...}.\n",
    "    '''\n",
    "    \n",
    "    # variables\n",
    "    tripleId = set()\n",
    "    tripleXref = set()\n",
    "    tripleType = set()\n",
    "    tripleCategory = set()\n",
    "\n",
    "    # compose tuple of triples\n",
    "    for associations in [r_out.json()['associations'], r_in.json()['associations']]:\n",
    "        for association in associations:\n",
    "            tripleId.add((association['subject']['id'], association['relation']['id'], association['object']['id']))\n",
    "            tripleXref.add((association['subject']['xrefs'], association['relation']['id'], association['object']['xrefs']))\n",
    "            tripleType.add((association['subject']['types'], association['relation']['types'], association['object']['types']))\n",
    "            tripleCategory.add((association['subject']['categories'], association['relation']['categories'], association['object']['categories']))\n",
    "\n",
    "    # print    \n",
    "    #print(tripleId)\n",
    "    #print(tripleXref)\n",
    "    #print(tripleType)\n",
    "    #print(tripleCategory)\n",
    "    \n",
    "    return tripleId, tripleXref, tripleType, tripleCategory"
   ]
  },
  {
   "cell_type": "code",
   "execution_count": 72,
   "metadata": {
    "collapsed": true
   },
   "outputs": [],
   "source": [
    "# function to evaluate the intersection with network nodes\n",
    "def filtering(nodes, edges):\n",
    "    \"\"\"filters all edges down to those which have both nodes in the nodes set\"\"\"\n",
    "    nodes = set(nodes)\n",
    "    keep = set()\n",
    "    for (start, pred, stop) in edges:\n",
    "        if {start, stop} <= nodes:\n",
    "            keep.add((start, pred, stop))\n",
    "            \n",
    "    return keep"
   ]
  },
  {
   "cell_type": "code",
   "execution_count": 73,
   "metadata": {
    "collapsed": true
   },
   "outputs": [],
   "source": [
    "# add triple\n",
    "def keepEdges(keep = (), new = ()):\n",
    "    '''This function adds triples in a tuple'''\n",
    "    \n",
    "    for (start, pred, stop) in new:\n",
    "        keep.add((start, pred, stop))\n",
    "        \n",
    "    return keep"
   ]
  },
  {
   "cell_type": "code",
   "execution_count": 88,
   "metadata": {
    "collapsed": true
   },
   "outputs": [],
   "source": [
    "def printFile(path,fileName,data):\n",
    "    '''Function to save output to file.'''\n",
    "    \n",
    "    #connections_df.fillna('None').to_csv('{}/{}.tsv'.format(path,fileName), sep='\\t', index=False, header=True)\n",
    "    with open('{}/{}.tsv'.format(path,fileName), 'w') as f:\n",
    "        f.write('subject_id\\trelation_id\\tobject_id\\n')\n",
    "        for (sub, pred, obj) in data:\n",
    "            f.write('{}\\t{}\\t{}\\n'.format(sub, pred, obj))\n",
    "    \n",
    "    return print(\"File '{}/{}.tsv' saved.\".format(path,fileName))"
   ]
  },
  {
   "cell_type": "code",
   "execution_count": 75,
   "metadata": {
    "collapsed": true
   },
   "outputs": [],
   "source": [
    "# read ngly1 network nodes list\n",
    "# ngly1 network\n",
    "route = 'repurposing/rephetio-su/ngly1-net/connectivity/curated_1shellMonarchExpansion/network'\n",
    "network_df = pd.read_table('../{}/network_nodes_monarch_list.tsv'.format(route))\n",
    "network_df.head(2)\n",
    "nodes = list(network_df.monarch_id)"
   ]
  },
  {
   "cell_type": "code",
   "execution_count": 76,
   "metadata": {
    "scrolled": true
   },
   "outputs": [
    {
     "name": "stderr",
     "output_type": "stream",
     "text": [
      " 50%|█████     | 1/2 [00:01<00:01,  1.69s/it]"
     ]
    },
    {
     "name": "stdout",
     "output_type": "stream",
     "text": [
      "{('Coriell:GM25990', None, 'NCBIGene:55768'), ('NCBIGene:55768', 'BFO:0000050', 'GO:0005634'), ('NCBIGene:55768', 'RO:0002331', 'GO:0006457'), ('NCBIGene:55768', 'BFO:0000050', 'GO:0005737'), ('NCBIGene:55768', 'RO:0002331', 'KEGG-path:map04141'), (':.well-known/genid/person-3213-1', None, 'NCBIGene:55768'), (':.well-known/genid/person-GM25990', None, 'NCBIGene:55768'), ('NCBIGene:55768', 'BFO:0000050', 'GO:0005829'), ('NCBIGene:55768', 'RO:0002331', 'REACT:R-HSA-532668'), ('NCBIGene:55768', 'RO:0002327', 'GO:0005515'), (':.well-known/genid/person-3200-1', None, 'NCBIGene:55768'), (':.well-known/genid/person-3199-1', None, 'NCBIGene:55768'), ('NCBIGene:55768', None, 'OMIM:615273'), ('NCBIGene:55768', 'RO:0002327', 'GO:0046872'), ('Coriell:GM25340', None, 'NCBIGene:55768'), ('NCBIGene:55768', 'RO:0002331', 'GO:0006517')}\n",
      "{(None, None)}\n",
      "{(None, None, None)}\n",
      "{(None, None, None)}\n"
     ]
    },
    {
     "name": "stderr",
     "output_type": "stream",
     "text": [
      "\r",
      "100%|██████████| 2/2 [00:03<00:00,  1.62s/it]"
     ]
    },
    {
     "name": "stdout",
     "output_type": "stream",
     "text": [
      "{('REACT:R-HSA-532668', None, 'NCBIGene:6233'), ('REACT:R-HSA-532668', None, 'NCBIGene:23193'), ('REACT:R-HSA-532668', None, 'NCBIGene:55768'), ('REACT:R-HSA-532668', None, 'NCBIGene:7415'), ('Orphanet:100069', 'RO:0002331', 'REACT:R-HSA-532668'), ('OMIM:616687', 'RO:0002331', 'REACT:R-HSA-532668'), ('NCBIGene:5589', 'RO:0002331', 'REACT:R-HSA-532668'), ('REACT:R-HSA-532668', None, 'NCBIGene:5589'), ('OMIM:606056', 'RO:0002331', 'REACT:R-HSA-532668'), ('REACT:R-HSA-532668', None, 'NCBIGene:64772'), ('REACT:R-HSA-532668', None, 'NCBIGene:79139'), ('NCBIGene:51035', 'RO:0002331', 'REACT:R-HSA-532668'), ('REACT:R-HSA-532668', None, 'NCBIGene:7314'), ('DOID:0060213', 'RO:0002331', 'REACT:R-HSA-532668'), ('Orphanet:275864', 'RO:0002331', 'REACT:R-HSA-532668'), ('DOID:0050881', 'RO:0002331', 'REACT:R-HSA-532668'), ('Orphanet:329478', 'RO:0002331', 'REACT:R-HSA-532668'), ('NCBIGene:55768', 'RO:0002331', 'REACT:R-HSA-532668'), ('REACT:R-HSA-532668', None, 'NCBIGene:7316'), ('REACT:R-HSA-532668', None, 'NCBIGene:2923')}\n",
      "{(None, None)}\n",
      "{(None, None, None)}\n",
      "{(None, None, None)}\n",
      "File './/home/nuria/workspace/monarch/find_associations/new_connections.tsv' saved.\n"
     ]
    },
    {
     "name": "stderr",
     "output_type": "stream",
     "text": [
      "\n"
     ]
    }
   ],
   "source": [
    "# get associations from Monarch: api - i\n",
    "nodes_l = ['NCBIGene:55768','REACT:R-HSA-532668'] \n",
    "keep = set()\n",
    "for node in tqdm(nodes_l, total = len(nodes_l)):\n",
    "    #print('Starts loop with: {}'.format(node))\n",
    "    r_out, r_in = hitMonarchApi(node)\n",
    "    edges = getMonarchEdges(r_out, r_in)\n",
    "    #print('2 layer: {}'.format(edges))\n",
    "    filteredEdges = filtering(nodes, edges)\n",
    "    #print('filtered edges: {}'.format(filteredEdges))\n",
    "    keep = keepEdges(keep, filteredEdges)\n",
    "#print('Final All Connections: {}'.format(keep))\n",
    "printFile(path,'new_connections.tsv', keep)"
   ]
  },
  {
   "cell_type": "code",
   "execution_count": 71,
   "metadata": {
    "collapsed": true
   },
   "outputs": [],
   "source": [
    "# prepare monarch api response as a tuple but with the intemediate step to keep all node information?\n",
    "def getEdgesObjects(r_out, r_in):\n",
    "    '''This function prepare the api object response from monarch to a tuple. \n",
    "       It returns three lists, one for subjects, relations, and objects, \n",
    "       where each list is a list of dictionaries where each dict is a node.\n",
    "    '''\n",
    "    \n",
    "    # variables\n",
    "    sub_l = list()\n",
    "    rel_l = list()\n",
    "    obj_l = list()\n",
    "\n",
    "    # compose list of dictionaries\n",
    "    for associations in [r_out.json()['associations'], r_in.json()['associations']]:\n",
    "        for association in associations:\n",
    "            sub_l.append(association['subject'])\n",
    "            rel_l.append(association['relation'])\n",
    "            obj_l.append(association['object'])  \n",
    "    \n",
    "    return sub_l, rel_l, obj_l\n",
    "\n",
    "def getEdges(sub_l, rel_l, obj_l, attribute = 'id'):\n",
    "    '''\n",
    "       Function that builds triples with an attribute for each node. it returns a tuple with the edges\n",
    "    '''\n",
    "    edges = set()\n",
    "    # compose tuple\n",
    "    for i in range(len(sub_l)):\n",
    "        sub = sub_l[i][attribute]\n",
    "        rel = rel_l[i][attribute]\n",
    "        obj = obj_l[i][attribute]\n",
    "        edges.add((sub, rel, obj))\n",
    "        \n",
    "    return edges"
   ]
  },
  {
   "cell_type": "code",
   "execution_count": 77,
   "metadata": {},
   "outputs": [
    {
     "name": "stderr",
     "output_type": "stream",
     "text": [
      "\r",
      "  0%|          | 0/2 [00:00<?, ?it/s]"
     ]
    },
    {
     "name": "stdout",
     "output_type": "stream",
     "text": [
      "Starts loop with: NCBIGene:55768\n"
     ]
    },
    {
     "name": "stderr",
     "output_type": "stream",
     "text": [
      "\r",
      " 50%|█████     | 1/2 [00:01<00:01,  1.35s/it]"
     ]
    },
    {
     "name": "stdout",
     "output_type": "stream",
     "text": [
      "2 layer: {('Coriell:GM25990', None, 'NCBIGene:55768'), ('NCBIGene:55768', 'BFO:0000050', 'GO:0005634'), ('NCBIGene:55768', 'RO:0002331', 'GO:0006457'), ('NCBIGene:55768', 'BFO:0000050', 'GO:0005737'), ('NCBIGene:55768', 'RO:0002331', 'KEGG-path:map04141'), (':.well-known/genid/person-3213-1', None, 'NCBIGene:55768'), (':.well-known/genid/person-GM25990', None, 'NCBIGene:55768'), ('NCBIGene:55768', 'BFO:0000050', 'GO:0005829'), ('NCBIGene:55768', 'RO:0002331', 'REACT:R-HSA-532668'), ('NCBIGene:55768', 'RO:0002327', 'GO:0005515'), (':.well-known/genid/person-3200-1', None, 'NCBIGene:55768'), (':.well-known/genid/person-3199-1', None, 'NCBIGene:55768'), ('NCBIGene:55768', None, 'OMIM:615273'), ('NCBIGene:55768', 'RO:0002327', 'GO:0046872'), ('Coriell:GM25340', None, 'NCBIGene:55768'), ('NCBIGene:55768', 'RO:0002331', 'GO:0006517')}\n",
      "filtered edges: {('NCBIGene:55768', 'BFO:0000050', 'GO:0005737'), ('NCBIGene:55768', 'RO:0002331', 'KEGG-path:map04141'), ('NCBIGene:55768', 'BFO:0000050', 'GO:0005829'), ('NCBIGene:55768', 'RO:0002331', 'REACT:R-HSA-532668'), ('NCBIGene:55768', None, 'OMIM:615273'), ('NCBIGene:55768', 'RO:0002331', 'GO:0006517')}\n",
      "Starts loop with: REACT:R-HSA-532668\n"
     ]
    },
    {
     "name": "stderr",
     "output_type": "stream",
     "text": [
      "\r",
      "100%|██████████| 2/2 [00:07<00:00,  2.85s/it]"
     ]
    },
    {
     "name": "stdout",
     "output_type": "stream",
     "text": [
      "2 layer: {('REACT:R-HSA-532668', None, 'NCBIGene:6233'), ('REACT:R-HSA-532668', None, 'NCBIGene:23193'), ('REACT:R-HSA-532668', None, 'NCBIGene:55768'), ('REACT:R-HSA-532668', None, 'NCBIGene:7415'), ('Orphanet:100069', 'RO:0002331', 'REACT:R-HSA-532668'), ('OMIM:616687', 'RO:0002331', 'REACT:R-HSA-532668'), ('NCBIGene:5589', 'RO:0002331', 'REACT:R-HSA-532668'), ('REACT:R-HSA-532668', None, 'NCBIGene:5589'), ('OMIM:606056', 'RO:0002331', 'REACT:R-HSA-532668'), ('REACT:R-HSA-532668', None, 'NCBIGene:64772'), ('REACT:R-HSA-532668', None, 'NCBIGene:79139'), ('NCBIGene:51035', 'RO:0002331', 'REACT:R-HSA-532668'), ('REACT:R-HSA-532668', None, 'NCBIGene:7314'), ('DOID:0060213', 'RO:0002331', 'REACT:R-HSA-532668'), ('Orphanet:275864', 'RO:0002331', 'REACT:R-HSA-532668'), ('DOID:0050881', 'RO:0002331', 'REACT:R-HSA-532668'), ('Orphanet:329478', 'RO:0002331', 'REACT:R-HSA-532668'), ('NCBIGene:55768', 'RO:0002331', 'REACT:R-HSA-532668'), ('REACT:R-HSA-532668', None, 'NCBIGene:7316'), ('REACT:R-HSA-532668', None, 'NCBIGene:2923')}\n",
      "filtered edges: {('NCBIGene:55768', 'RO:0002331', 'REACT:R-HSA-532668'), ('REACT:R-HSA-532668', None, 'NCBIGene:79139'), ('REACT:R-HSA-532668', None, 'NCBIGene:55768'), ('REACT:R-HSA-532668', None, 'NCBIGene:7415')}\n",
      "Final All Connections: {('REACT:R-HSA-532668', None, 'NCBIGene:55768'), ('NCBIGene:55768', 'BFO:0000050', 'GO:0005737'), ('REACT:R-HSA-532668', None, 'NCBIGene:7415'), ('NCBIGene:55768', 'RO:0002331', 'KEGG-path:map04141'), ('NCBIGene:55768', 'BFO:0000050', 'GO:0005829'), ('NCBIGene:55768', 'RO:0002331', 'REACT:R-HSA-532668'), ('REACT:R-HSA-532668', None, 'NCBIGene:79139'), ('NCBIGene:55768', None, 'OMIM:615273'), ('NCBIGene:55768', 'RO:0002331', 'GO:0006517')}\n"
     ]
    },
    {
     "name": "stderr",
     "output_type": "stream",
     "text": [
      "\n"
     ]
    }
   ],
   "source": [
    "# get associations from Monarch: api - ii\n",
    "nodes_l = ['NCBIGene:55768','REACT:R-HSA-532668'] \n",
    "keep = set()\n",
    "for node in tqdm(nodes_l, total = len(nodes_l)):\n",
    "    print('Starts loop with: {}'.format(node))\n",
    "    r_out, r_in = hitMonarchApi(node)\n",
    "    sub_l, rel_l, obj_l = getEdgesObjects(r_out, r_in)\n",
    "    edges = getEdges(sub_l, rel_l, obj_l, 'id')\n",
    "    print('2 layer: {}'.format(edges))\n",
    "    filteredEdges = filtering(nodes, edges)\n",
    "    print('filtered edges: {}'.format(filteredEdges))\n",
    "    keep = keepEdges(keep, filteredEdges)\n",
    "print('Final All Connections: {}'.format(keep))"
   ]
  },
  {
   "cell_type": "code",
   "execution_count": null,
   "metadata": {
    "collapsed": true
   },
   "outputs": [],
   "source": []
  }
 ],
 "metadata": {
  "kernelspec": {
   "display_name": "Python 3",
   "language": "python",
   "name": "python3"
  },
  "language_info": {
   "codemirror_mode": {
    "name": "ipython",
    "version": 3
   },
   "file_extension": ".py",
   "mimetype": "text/x-python",
   "name": "python",
   "nbconvert_exporter": "python",
   "pygments_lexer": "ipython3",
   "version": "3.6.1"
  }
 },
 "nbformat": 4,
 "nbformat_minor": 2
}
