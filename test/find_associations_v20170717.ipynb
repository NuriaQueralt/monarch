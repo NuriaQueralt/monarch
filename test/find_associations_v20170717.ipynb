{
 "cells": [
  {
   "cell_type": "code",
   "execution_count": 67,
   "metadata": {
    "collapsed": true
   },
   "outputs": [],
   "source": [
    "import os, sys\n",
    "import pandas as pd\n",
    "from tqdm import tqdm\n",
    "import requests\n",
    "import json\n",
    "from pandas.io.json import json_normalize\n",
    "sys.path.insert(0,'/home/nuria/workspace/utils3/lib/')\n",
    "import abravo_lib as utils"
   ]
  },
  {
   "cell_type": "code",
   "execution_count": 68,
   "metadata": {
    "collapsed": true
   },
   "outputs": [],
   "source": [
    "# api addresses\n",
    "biolink = 'https://api.monarchinitiative.org/api'\n",
    "\n",
    "# endpoint\n",
    "endpoint = '/association'\n",
    "\n",
    "# path to data\n",
    "path = os.getcwd() + '/find_associations'\n",
    "if not os.path.isdir(path): os.makedirs(path)\n",
    "\n",
    "# read data\n",
    "sys.path.insert(0, './find_associations/')\n",
    "#/workspace/repurposing/rephetio-su/ngly1-net/networks/curated_1shellMonarchExpansion/data"
   ]
  },
  {
   "cell_type": "code",
   "execution_count": 69,
   "metadata": {
    "collapsed": true
   },
   "outputs": [],
   "source": [
    "# function get monarch associations\n",
    "def hitMonarchApi(node = 'NCBIGene:55768'):\n",
    "    '''This function performs api calls to Monarch for in and out edges. \n",
    "        It returns associated nodes'''\n",
    "    \n",
    "    # api addresses\n",
    "    biolink = 'https://api.monarchinitiative.org/api/association'\n",
    "    \n",
    "    # parameters\n",
    "    #data = {'use_compact_associations':'true','fl_excludes_evidence':'true'}\n",
    "    data = {'fl_excludes_evidence':'true'}\n",
    "    \n",
    "    # out edges: from/\n",
    "    r_out = requests.get('{}/from/{}'.format(biolink,node),data)\n",
    "\n",
    "    # in edges: to/\n",
    "    r_in = requests.get('{}/to/{}'.format(biolink,node),data)\n",
    "\n",
    "    return r_out, r_in "
   ]
  },
  {
   "cell_type": "code",
   "execution_count": 85,
   "metadata": {
    "collapsed": true
   },
   "outputs": [],
   "source": [
    "# prepare monarch api response as a tuple\n",
    "def getMonarchEdges(r_out, r_in):\n",
    "    '''This function prepare the api object response from monarch to a tuple. \n",
    "       It returns a tuple of edges: {(s,r,o),(s,r,o),...}.\n",
    "    '''\n",
    "    \n",
    "    # variables\n",
    "    tripleId = set()\n",
    "    tripleXref = set()\n",
    "    tripleType = set()\n",
    "    tripleCategory = set()\n",
    "\n",
    "    # compose tuple of triples\n",
    "    for associations in [r_out.json()['associations'], r_in.json()['associations']]:\n",
    "        for association in associations:\n",
    "            tripleId.add((association['subject']['id'], association['relation']['id'], association['object']['id']))\n",
    "            tripleXref.add((association['subject']['xrefs'], association['relation']['id'], association['object']['xrefs']))\n",
    "            tripleType.add((association['subject']['types'], association['relation']['types'], association['object']['types']))\n",
    "            tripleCategory.add((association['subject']['categories'], association['relation']['categories'], association['object']['categories']))\n",
    "    \n",
    "    return tripleId, tripleXref, tripleType, tripleCategory"
   ]
  },
  {
   "cell_type": "code",
   "execution_count": 72,
   "metadata": {
    "collapsed": true
   },
   "outputs": [],
   "source": [
    "# function to evaluate the intersection with network nodes\n",
    "def filtering(nodes, edges):\n",
    "    \"\"\"filters all edges down to those which have both nodes in the nodes set\"\"\"\n",
    "    nodes = set(nodes)\n",
    "    keep = set()\n",
    "    for (start, pred, stop) in edges:\n",
    "        if {start, stop} <= nodes:\n",
    "            keep.add((start, pred, stop))\n",
    "            \n",
    "    return keep"
   ]
  },
  {
   "cell_type": "code",
   "execution_count": 73,
   "metadata": {
    "collapsed": true
   },
   "outputs": [],
   "source": [
    "# add triple\n",
    "def keepEdges(keep = (), new = ()):\n",
    "    '''This function adds triples in a tuple'''\n",
    "    \n",
    "    for (start, pred, stop) in new:\n",
    "        keep.add((start, pred, stop))\n",
    "        \n",
    "    return keep"
   ]
  },
  {
   "cell_type": "code",
   "execution_count": 88,
   "metadata": {
    "collapsed": true
   },
   "outputs": [],
   "source": [
    "def printFile(path,fileName,data):\n",
    "    '''Function to save output to file.'''\n",
    "    \n",
    "    #connections_df.fillna('None').to_csv('{}/{}.tsv'.format(path,fileName), sep='\\t', index=False, header=True)\n",
    "    with open('{}/{}.tsv'.format(path,fileName), 'w') as f:\n",
    "        f.write('subject_id\\trelation_id\\tobject_id\\n')\n",
    "        for (sub, pred, obj) in data:\n",
    "            f.write('{}\\t{}\\t{}\\n'.format(sub, pred, obj))\n",
    "    \n",
    "    return print(\"File '{}/{}.tsv' saved.\".format(path,fileName))"
   ]
  },
  {
   "cell_type": "code",
   "execution_count": 75,
   "metadata": {
    "collapsed": true
   },
   "outputs": [],
   "source": [
    "# read ngly1 network nodes list\n",
    "# ngly1 network\n",
    "route = 'repurposing/rephetio-su/ngly1-net/connectivity/curated_1shellMonarchExpansion/network'\n",
    "network_df = pd.read_table('../{}/network_nodes_monarch_list.tsv'.format(route))\n",
    "network_df.head(2)\n",
    "nodes = list(network_df.monarch_id)"
   ]
  },
  {
   "cell_type": "code",
   "execution_count": 90,
   "metadata": {},
   "outputs": [
    {
     "name": "stderr",
     "output_type": "stream",
     "text": [
      "100%|██████████| 463/463 [09:47<00:00,  1.14s/it]"
     ]
    },
    {
     "name": "stdout",
     "output_type": "stream",
     "text": [
      "File '/home/nuria/workspace/monarch/find_associations/new_connections.tsv' saved.\n",
      "File '/home/nuria/workspace/monarch/find_associations/new_xrefs.tsv' saved.\n",
      "File '/home/nuria/workspace/monarch/find_associations/new_types.tsv' saved.\n",
      "File '/home/nuria/workspace/monarch/find_associations/new_categories.tsv' saved.\n"
     ]
    },
    {
     "name": "stderr",
     "output_type": "stream",
     "text": [
      "\n"
     ]
    }
   ],
   "source": [
    "# get associations from Monarch: api \n",
    "nodes\n",
    "keep = set(); keepxref = set(); keeptype = set(); keepcategory = set()\n",
    "for node in tqdm(nodes, total = len(nodes)):\n",
    "    r_out, r_in = hitMonarchApi(node)\n",
    "    edges, xrefs, types, categories = getMonarchEdges(r_out, r_in)\n",
    "    filteredEdges = filtering(nodes, edges)\n",
    "    keep = keepEdges(keep, filteredEdges)\n",
    "    keepxref = keepEdges(keepxref, xrefs)\n",
    "    keeptype = keepEdges(keeptype, types)\n",
    "    keepcategory = keepEdges(keepcategory, categories)\n",
    "    \n",
    "printFile(path,'new_connections', keep)\n",
    "printFile(path,'new_xrefs', keepxref)\n",
    "printFile(path,'new_types', keeptype)\n",
    "printFile(path,'new_categories', keepcategory)"
   ]
  },
  {
   "cell_type": "code",
   "execution_count": null,
   "metadata": {
    "collapsed": true
   },
   "outputs": [],
   "source": []
  },
  {
   "cell_type": "code",
   "execution_count": null,
   "metadata": {
    "collapsed": true
   },
   "outputs": [],
   "source": []
  },
  {
   "cell_type": "code",
   "execution_count": null,
   "metadata": {
    "collapsed": true
   },
   "outputs": [],
   "source": []
  },
  {
   "cell_type": "code",
   "execution_count": null,
   "metadata": {
    "collapsed": true
   },
   "outputs": [],
   "source": []
  },
  {
   "cell_type": "code",
   "execution_count": null,
   "metadata": {
    "collapsed": true
   },
   "outputs": [],
   "source": []
  },
  {
   "cell_type": "code",
   "execution_count": null,
   "metadata": {
    "collapsed": true
   },
   "outputs": [],
   "source": []
  },
  {
   "cell_type": "code",
   "execution_count": null,
   "metadata": {
    "collapsed": true
   },
   "outputs": [],
   "source": []
  },
  {
   "cell_type": "code",
   "execution_count": null,
   "metadata": {
    "collapsed": true
   },
   "outputs": [],
   "source": []
  },
  {
   "cell_type": "code",
   "execution_count": null,
   "metadata": {
    "collapsed": true
   },
   "outputs": [],
   "source": []
  },
  {
   "cell_type": "code",
   "execution_count": null,
   "metadata": {
    "collapsed": true
   },
   "outputs": [],
   "source": []
  },
  {
   "cell_type": "code",
   "execution_count": null,
   "metadata": {
    "collapsed": true
   },
   "outputs": [],
   "source": []
  },
  {
   "cell_type": "code",
   "execution_count": null,
   "metadata": {
    "collapsed": true
   },
   "outputs": [],
   "source": []
  },
  {
   "cell_type": "code",
   "execution_count": null,
   "metadata": {
    "collapsed": true
   },
   "outputs": [],
   "source": []
  },
  {
   "cell_type": "code",
   "execution_count": null,
   "metadata": {
    "collapsed": true
   },
   "outputs": [],
   "source": []
  },
  {
   "cell_type": "code",
   "execution_count": null,
   "metadata": {
    "collapsed": true
   },
   "outputs": [],
   "source": []
  }
 ],
 "metadata": {
  "kernelspec": {
   "display_name": "Python 3",
   "language": "python",
   "name": "python3"
  },
  "language_info": {
   "codemirror_mode": {
    "name": "ipython",
    "version": 3
   },
   "file_extension": ".py",
   "mimetype": "text/x-python",
   "name": "python",
   "nbconvert_exporter": "python",
   "pygments_lexer": "ipython3",
   "version": "3.6.1"
  }
 },
 "nbformat": 4,
 "nbformat_minor": 2
}
