{
 "cells": [
  {
   "cell_type": "code",
   "execution_count": 1,
   "metadata": {
    "collapsed": true
   },
   "outputs": [],
   "source": [
    "import os, sys\n",
    "import requests\n",
    "import json\n",
    "import pandas as pd"
   ]
  },
  {
   "cell_type": "code",
   "execution_count": 2,
   "metadata": {
    "collapsed": true
   },
   "outputs": [],
   "source": [
    "# write data\n",
    "path = os.getcwd() + '/find-associations'\n",
    "if not os.path.isdir(path): os.makedirs(path)\n",
    "    \n",
    "# read data\n",
    "sys.path.insert(0, './find-associations/')"
   ]
  },
  {
   "cell_type": "code",
   "execution_count": 3,
   "metadata": {
    "collapsed": true
   },
   "outputs": [],
   "source": [
    "# function get monarch associations\n",
    "def hitMonarchApi(node = 'NCBIGene:55768'):\n",
    "    '''This function performs api calls to Monarch for in and out edges. \n",
    "        It returns associated nodes'''\n",
    "    \n",
    "    # api address\n",
    "    biolink = 'https://api.monarchinitiative.org/api/association'\n",
    "    \n",
    "    # parameters\n",
    "    parameters = {'fl_excludes_evidence': False, 'rows': 5 }#2000}\n",
    "    \n",
    "    # out edges: from/\n",
    "    r_out = requests.get('{}/from/{}'.format(biolink,node),params=parameters)\n",
    "\n",
    "    # in edges: to/\n",
    "    r_in = requests.get('{}/to/{}'.format(biolink,node),params=parameters)\n",
    "\n",
    "    return r_out, r_in "
   ]
  },
  {
   "cell_type": "code",
   "execution_count": 4,
   "metadata": {
    "collapsed": true
   },
   "outputs": [],
   "source": [
    "# prepare monarch api response as a tuple but with the intemediate step to keep all node information?\n",
    "def getEdgesObjects(r_out, r_in):\n",
    "    '''This function prepare the api object response from monarch to a tuple. \n",
    "       It returns three lists, one for subjects, relations, and objects, \n",
    "       where each list is a list of dictionaries where each dict is a node.\n",
    "    '''\n",
    "    \n",
    "    # variables\n",
    "    sub_l = list()\n",
    "    rel_l = list()\n",
    "    obj_l = list()\n",
    "    ref_l = list()\n",
    "\n",
    "    # compose list of dictionaries\n",
    "    for associations in [r_out.json()['associations'], r_in.json()['associations']]:\n",
    "        for association in associations:\n",
    "            #print(association['id'])\n",
    "            pub_l = list()\n",
    "            sub_l.append(association['subject'])\n",
    "            rel_l.append(association['relation'])\n",
    "            obj_l.append(association['object'])  \n",
    "            # add references to each association as a list of strings\n",
    "            if association['publications']:\n",
    "                for publication in association['publications']:\n",
    "                    #print(publication['id'])\n",
    "                    pub_l.append(publication['id'])\n",
    "            else:\n",
    "                #print(association['publications'])\n",
    "                pub_l.append('NA')\n",
    "            ref_l.append('|'.join(pub_l))\n",
    "            #print(pub_l)\n",
    "            #print(ref_l)\n",
    "    \n",
    "    return sub_l, rel_l, obj_l, ref_l\n",
    "\n",
    "def getEdges(sub_l, rel_l, obj_l, ref_l, attribute = 'id'):\n",
    "    '''\n",
    "       Function that builds triples with an attribute for each node. it returns a tuple with the edges\n",
    "    '''\n",
    "    edges = set()\n",
    "    # compose tuple\n",
    "    for i in range(len(sub_l)):\n",
    "        sub = sub_l[i][attribute]\n",
    "        rel = rel_l[i][attribute]\n",
    "        obj = obj_l[i][attribute]\n",
    "        ref = ref_l[i]\n",
    "        edges.add((sub, rel, obj, ref))\n",
    "        \n",
    "    return edges"
   ]
  },
  {
   "cell_type": "code",
   "execution_count": 5,
   "metadata": {
    "collapsed": true
   },
   "outputs": [],
   "source": [
    "# function to evaluate the intersection with network nodes\n",
    "def filtering(nodes, edges):\n",
    "    \"\"\"filters all edges down to those which have both nodes in the nodes set\"\"\"\n",
    "    nodes = set(nodes)\n",
    "    keep = set()\n",
    "    for (start, pred, stop, ref) in edges:\n",
    "        if {start, stop} <= nodes:\n",
    "            keep.add((start, pred, stop, ref))\n",
    "            \n",
    "    return keep"
   ]
  },
  {
   "cell_type": "code",
   "execution_count": 6,
   "metadata": {
    "collapsed": true
   },
   "outputs": [],
   "source": [
    "# add triple\n",
    "def keepEdges(keep = (), new = ()):\n",
    "    '''This function adds triples in a tuple'''\n",
    "    \n",
    "    for (start, pred, stop, ref) in new:\n",
    "        keep.add((start, pred, stop, ref))\n",
    "        \n",
    "    return keep"
   ]
  },
  {
   "cell_type": "code",
   "execution_count": 7,
   "metadata": {
    "collapsed": true
   },
   "outputs": [],
   "source": [
    "def printFile(path,fileName,data):\n",
    "    '''Function to save output to file.'''\n",
    "    \n",
    "    #connections_df.fillna('None').to_csv('{}/{}.tsv'.format(path,fileName), sep='\\t', index=False, header=True)\n",
    "    with open('{}/{}.tsv'.format(path,fileName), 'w') as f:\n",
    "        f.write('subject_id\\trelation_id\\tobject_id\\treference_id_list\\n')\n",
    "        for (sub, pred, obj, ref) in data:\n",
    "            f.write('{}\\t{}\\t{}\\t{}\\n'.format(sub, pred, obj, ref))\n",
    "    \n",
    "    return print(\"File '{}/{}.tsv' saved.\".format(path,fileName))"
   ]
  },
  {
   "cell_type": "code",
   "execution_count": 8,
   "metadata": {
    "collapsed": true
   },
   "outputs": [],
   "source": [
    "# read ngly1 network nodes list\n",
    "# ngly1 network\n",
    "route = 'repurposing/rephetio-su/ngly1-net/connectivity/curated_1shellMonarchExpansion_net/network'\n",
    "network_df = pd.read_table('../{}/network_nodes_monarch_list.tsv'.format(route))\n",
    "network_df.head(2)\n",
    "nodes = list(network_df.monarch_id)"
   ]
  },
  {
   "cell_type": "code",
   "execution_count": 9,
   "metadata": {},
   "outputs": [
    {
     "name": "stdout",
     "output_type": "stream",
     "text": [
      "File '/home/nuria/workspace/monarch/find_associations/new_connections.tsv' saved.\n",
      "File '/home/nuria/workspace/monarch/find_associations/all_not_filtered_monarch_api_response.json' saved.\n"
     ]
    }
   ],
   "source": [
    "# save all monarch api json responses results\n",
    "with open('{}/all_not_filtered_monarch_api_response.json'.format(path), 'w') as f:\n",
    "    f.write('{\\n \"response\": [\\n')\n",
    "\n",
    "# get associations from Monarch: api - ii\n",
    "nodes_l = ['NCBIGene:55768','REACT:R-HSA-532668','OMIM:615273'] \n",
    "keep = set()\n",
    "first = 1\n",
    "for node in nodes_l:\n",
    "    #print('Starts loop with: {}'.format(node))\n",
    "    r_out, r_in = hitMonarchApi(node)\n",
    "    # save all monarch api json responses results\n",
    "    with open('{}/all_not_filtered_monarch_api_response.json'.format(path), 'a') as f:\n",
    "        if first:\n",
    "            first = 0\n",
    "        else:\n",
    "            f.write(',\\n')\n",
    "        json.dump(r_out.json(), f, sort_keys=True, indent=4)\n",
    "        f.write(',\\n')\n",
    "        json.dump(r_in.json(), f, sort_keys=True, indent=4)\n",
    "    sub_l, rel_l, obj_l, ref_l = getEdgesObjects(r_out, r_in)\n",
    "    edges = getEdges(sub_l, rel_l, obj_l, ref_l, 'id')\n",
    "    #print('2 layer: {}'.format(edges))\n",
    "    filteredEdges = filtering(nodes, edges)\n",
    "    #print('filtered edges: {}'.format(filteredEdges))\n",
    "    keep = keepEdges(keep, filteredEdges)\n",
    "#print('Final All Connections: {}'.format(keep))\n",
    "\n",
    "printFile(path,'new_connections', keep)\n",
    "with open('{}/all_not_filtered_monarch_api_response.json'.format(path), 'a') as f:\n",
    "    f.write('\\n ]\\n}')\n",
    "print(\"File '{}/all_not_filtered_monarch_api_response.json' saved.\".format(path))"
   ]
  },
  {
   "cell_type": "code",
   "execution_count": null,
   "metadata": {
    "collapsed": true
   },
   "outputs": [],
   "source": []
  },
  {
   "cell_type": "code",
   "execution_count": null,
   "metadata": {
    "collapsed": true
   },
   "outputs": [],
   "source": []
  }
 ],
 "metadata": {
  "kernelspec": {
   "display_name": "Python 3",
   "language": "python",
   "name": "python3"
  },
  "language_info": {
   "codemirror_mode": {
    "name": "ipython",
    "version": 3
   },
   "file_extension": ".py",
   "mimetype": "text/x-python",
   "name": "python",
   "nbconvert_exporter": "python",
   "pygments_lexer": "ipython3",
   "version": "3.6.1"
  }
 },
 "nbformat": 4,
 "nbformat_minor": 2
}
